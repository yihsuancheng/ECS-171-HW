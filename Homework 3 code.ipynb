{
 "cells": [
  {
   "cell_type": "markdown",
   "metadata": {},
   "source": [
    "## Homework 3\n",
    "#### Problem 1a"
   ]
  },
  {
   "cell_type": "code",
   "execution_count": 1,
   "metadata": {},
   "outputs": [],
   "source": [
    "import pandas as pd\n",
    "import numpy as np\n",
    "df = pd.read_csv('datasets/churn.txt')\n"
   ]
  },
  {
   "cell_type": "code",
   "execution_count": 2,
   "metadata": {},
   "outputs": [
    {
     "data": {
      "text/html": [
       "<div>\n",
       "<style scoped>\n",
       "    .dataframe tbody tr th:only-of-type {\n",
       "        vertical-align: middle;\n",
       "    }\n",
       "\n",
       "    .dataframe tbody tr th {\n",
       "        vertical-align: top;\n",
       "    }\n",
       "\n",
       "    .dataframe thead th {\n",
       "        text-align: right;\n",
       "    }\n",
       "</style>\n",
       "<table border=\"1\" class=\"dataframe\">\n",
       "  <thead>\n",
       "    <tr style=\"text-align: right;\">\n",
       "      <th>col_0</th>\n",
       "      <th>count</th>\n",
       "    </tr>\n",
       "    <tr>\n",
       "      <th>row_0</th>\n",
       "      <th></th>\n",
       "    </tr>\n",
       "  </thead>\n",
       "  <tbody>\n",
       "    <tr>\n",
       "      <th>-1</th>\n",
       "      <td>19</td>\n",
       "    </tr>\n",
       "    <tr>\n",
       "      <th>1</th>\n",
       "      <td>3314</td>\n",
       "    </tr>\n",
       "  </tbody>\n",
       "</table>\n",
       "</div>"
      ],
      "text/plain": [
       "col_0  count\n",
       "row_0       \n",
       "-1        19\n",
       " 1      3314"
      ]
     },
     "execution_count": 2,
     "metadata": {},
     "output_type": "execute_result"
    }
   ],
   "source": [
    "df_clean = pd.DataFrame(df)                             #create a copy of dataframe\n",
    "df_clean.drop('State', axis = 1, inplace = True)        #drop the objects type for outlier detection of int and float\n",
    "df_clean.drop('Phone', axis = 1, inplace = True)\n",
    "df_clean.drop(\"Int'l Plan\", axis = 1, inplace = True)   \n",
    "df_clean.drop(\"VMail Plan\", axis = 1, inplace = True)\n",
    "df_clean.drop(\"Churn?\", axis = 1, inplace = True)\n",
    "\n",
    "from sklearn.neighbors import LocalOutlierFactor        #detect the outliers and remove them\n",
    "outlier = LocalOutlierFactor(n_jobs = -1)\n",
    "pred_lof = outlier.fit_predict(df_clean)\n",
    "pd.crosstab(pred_lof, columns = ['count'])"
   ]
  },
  {
   "cell_type": "code",
   "execution_count": 3,
   "metadata": {},
   "outputs": [
    {
     "data": {
      "text/html": [
       "<div>\n",
       "<style scoped>\n",
       "    .dataframe tbody tr th:only-of-type {\n",
       "        vertical-align: middle;\n",
       "    }\n",
       "\n",
       "    .dataframe tbody tr th {\n",
       "        vertical-align: top;\n",
       "    }\n",
       "\n",
       "    .dataframe thead th {\n",
       "        text-align: right;\n",
       "    }\n",
       "</style>\n",
       "<table border=\"1\" class=\"dataframe\">\n",
       "  <thead>\n",
       "    <tr style=\"text-align: right;\">\n",
       "      <th>col_0</th>\n",
       "      <th>count</th>\n",
       "    </tr>\n",
       "    <tr>\n",
       "      <th>row_0</th>\n",
       "      <th></th>\n",
       "    </tr>\n",
       "  </thead>\n",
       "  <tbody>\n",
       "    <tr>\n",
       "      <th>-1</th>\n",
       "      <td>334</td>\n",
       "    </tr>\n",
       "    <tr>\n",
       "      <th>1</th>\n",
       "      <td>2999</td>\n",
       "    </tr>\n",
       "  </tbody>\n",
       "</table>\n",
       "</div>"
      ],
      "text/plain": [
       "col_0  count\n",
       "row_0       \n",
       "-1       334\n",
       " 1      2999"
      ]
     },
     "execution_count": 3,
     "metadata": {},
     "output_type": "execute_result"
    }
   ],
   "source": [
    "from sklearn.covariance import EllipticEnvelope\n",
    "norm2 = EllipticEnvelope()\n",
    "pred_ee = norm2.fit_predict(df_clean)\n",
    "pd.crosstab(pred_ee, columns = ['count'])"
   ]
  },
  {
   "cell_type": "code",
   "execution_count": 4,
   "metadata": {},
   "outputs": [
    {
     "data": {
      "text/html": [
       "<div>\n",
       "<style scoped>\n",
       "    .dataframe tbody tr th:only-of-type {\n",
       "        vertical-align: middle;\n",
       "    }\n",
       "\n",
       "    .dataframe tbody tr th {\n",
       "        vertical-align: top;\n",
       "    }\n",
       "\n",
       "    .dataframe thead th {\n",
       "        text-align: right;\n",
       "    }\n",
       "</style>\n",
       "<table border=\"1\" class=\"dataframe\">\n",
       "  <thead>\n",
       "    <tr style=\"text-align: right;\">\n",
       "      <th>col_0</th>\n",
       "      <th>count</th>\n",
       "    </tr>\n",
       "    <tr>\n",
       "      <th>row_0</th>\n",
       "      <th></th>\n",
       "    </tr>\n",
       "  </thead>\n",
       "  <tbody>\n",
       "    <tr>\n",
       "      <th>-1</th>\n",
       "      <td>331</td>\n",
       "    </tr>\n",
       "    <tr>\n",
       "      <th>1</th>\n",
       "      <td>3002</td>\n",
       "    </tr>\n",
       "  </tbody>\n",
       "</table>\n",
       "</div>"
      ],
      "text/plain": [
       "col_0  count\n",
       "row_0       \n",
       "-1       331\n",
       " 1      3002"
      ]
     },
     "execution_count": 4,
     "metadata": {},
     "output_type": "execute_result"
    }
   ],
   "source": [
    "from sklearn.svm import OneClassSVM\n",
    "outlier_svm = OneClassSVM(gamma = 'scale', nu = 0.1)\n",
    "pred_svm = outlier_svm.fit_predict(df_clean)\n",
    "pd.crosstab(pred_svm, columns = ['count'])"
   ]
  },
  {
   "cell_type": "code",
   "execution_count": 5,
   "metadata": {},
   "outputs": [
    {
     "data": {
      "text/plain": [
       "array([ 197,  817, 1397, 2663, 2736, 3075], dtype=int64)"
      ]
     },
     "execution_count": 5,
     "metadata": {},
     "output_type": "execute_result"
    }
   ],
   "source": [
    "svm_ee = np.intersect1d(np.where(pred_svm == -1), np.where(pred_ee == -1))        #find the intersection between svm and ee\n",
    "lof_svm_ee = np.intersect1d(np.where(pred_lof == -1), svm_ee)                     #find the intersection between lof and svm+ee\n",
    "lof_svm_ee\n"
   ]
  },
  {
   "cell_type": "code",
   "execution_count": 6,
   "metadata": {},
   "outputs": [
    {
     "data": {
      "text/plain": [
       "array([ 197,  817, 1397, 2663, 2736, 3075], dtype=int64)"
      ]
     },
     "execution_count": 6,
     "metadata": {},
     "output_type": "execute_result"
    }
   ],
   "source": [
    "outlier_array = np.intersect1d(np.where(pred_lof == -1), np.where(pred_ee == -1))  #Find the index where pred_lof and pred_ee outliers intersect\n",
    "df.drop(outlier_array, inplace = True)                                             #drop the outliers that intersect\n",
    "outlier_array\n",
    "#df.drop(lof_svm_ee, inplace = True) \n"
   ]
  },
  {
   "cell_type": "code",
   "execution_count": 7,
   "metadata": {},
   "outputs": [],
   "source": [
    "df.drop('Phone', axis = 1, inplace = True)\n",
    "\n",
    "#indexNames = df[df['Churn?'] == 0 ].index\n",
    "#n_true = df['Churn?'].value_counts()[1]\n",
    "#df = df.drop(indexNames[n_true:], inplace = True)\n",
    "\n",
    "df['Area Code'] = df['Area Code'].astype(object)    #convert Area Code from int to object\n",
    "#df['Churn?'] = (df['Churn?'] == True).astype(int)   #convert the Churn? (target) from object(True, False) to int (boolean)\n",
    "object_col = df.select_dtypes(['object']).columns   #select all object types \n",
    "df[object_col]\n",
    "encoding = pd.get_dummies(df, columns = object_col)  #encode all object types into one hot encoding\n",
    "#encoding.shape\n",
    "#encoding\n"
   ]
  },
  {
   "cell_type": "code",
   "execution_count": 8,
   "metadata": {},
   "outputs": [],
   "source": [
    "from sklearn.model_selection import train_test_split\n",
    "train, test = train_test_split(encoding, train_size = 0.7, shuffle = False)            #split training and testing set with 70:30 ratio\n",
    "#train\n"
   ]
  },
  {
   "cell_type": "code",
   "execution_count": 9,
   "metadata": {},
   "outputs": [],
   "source": [
    "#Now apply minmax normalization on training dataset\n",
    "\n",
    "from sklearn.preprocessing import MinMaxScaler\n",
    "minmax = MinMaxScaler()\n",
    "\n",
    "scaled_values = minmax.fit_transform(train.drop(['Churn?_False.', 'Churn?_True.'] , axis = 1))   #encoded and normalized\n",
    "                                                                                                 #this is the x_train\n",
    "#scaled_values.shape"
   ]
  },
  {
   "cell_type": "markdown",
   "metadata": {},
   "source": [
    "#### Problem 1b"
   ]
  },
  {
   "cell_type": "markdown",
   "metadata": {},
   "source": [
    "#### (b-1) Using the LocalOutlierFactor, EllipticEnvelope, and OneClassSVM, it can be seen that there are outliers in the dataset. \n",
    "#### (b-2) The methods agree on some of the outliers in the dataset which can be shown by using np.intersect1d where an array of intersection of the outliers using different methods are obtained. However, some of outliers do not match due to different assumptions made on the dataset. \n",
    "#### (b-3) The OneClassSVM is sensitive to outliers and generally does not perform really well if there are outlier detections. It also expected an input to the outlier percentage to identify outliers. The EllipticEnvelope assumes the dataset is Gaussian distributed and learns an ellipse to perform outlier detection. Therefore, it fits an ellipse to the central data points, and ignores all data points outside the ellipse. The LocalOutlierFactor measures the local density deviation of a data point with respect to its neighbors. The purpose of determing the local density is to detect the samples that have lower density to its neighbor and classify them as outliers. *Note the outliers are removed in part 1a. \n",
    "\n",
    "#### Citation: https://scikit-learn.org/stable/modules/outlier_detection.html "
   ]
  },
  {
   "cell_type": "markdown",
   "metadata": {},
   "source": [
    "#### Problem 1c"
   ]
  },
  {
   "cell_type": "code",
   "execution_count": 10,
   "metadata": {},
   "outputs": [
    {
     "data": {
      "text/plain": [
       "<AxesSubplot:>"
      ]
     },
     "execution_count": 10,
     "metadata": {},
     "output_type": "execute_result"
    },
    {
     "data": {
      "image/png": "[encoded data removed]",
      "text/plain": [
       "<Figure size 432x288 with 2 Axes>"
      ]
     },
     "metadata": {
      "needs_background": "light"
     },
     "output_type": "display_data"
    }
   ],
   "source": [
    "df_new = pd.DataFrame(df)                   \n",
    "df_new.drop('State', axis = 1, inplace = True)             #remove multicollinear & useless features\n",
    "df_new.drop('Account Length', axis = 1, inplace = True)\n",
    "df_new.drop('Area Code', axis = 1, inplace = True)\n",
    "df_new.drop('Day Calls', axis = 1, inplace = True)\n",
    "df_new.drop('Eve Calls', axis = 1, inplace = True)\n",
    "df_new.drop('Night Calls', axis = 1, inplace = True)\n",
    "df_new.drop('CustServ Calls', axis = 1, inplace = True)\n",
    "df_new.drop('Intl Calls', axis = 1, inplace = True)\n",
    "df_new.drop('Churn?', axis = 1, inplace = True)\n",
    "\n",
    "object_col2 = df_new.select_dtypes(['object']).columns     #select all object types \n",
    "df_new[object_col2]\n",
    "b = pd.get_dummies(df_new, columns = object_col2).head()   #encode all object types into one hot encoding\n",
    "\n",
    "\n",
    "import seaborn as sns\n",
    "sns.heatmap(b.corr(), annot = True, vmin = -1, vmax = 1, center = 0)"
   ]
  },
  {
   "cell_type": "markdown",
   "metadata": {},
   "source": [
    "#### It can be seen from the heatmap above that day mins and day charge are strongly correlated (1.0) to each other. The same can be said for eve mins and eve charge, night mins and night charge, intl mins and intl charge, VMail message and VMail Plan_yes. In addition, there is a strong correlation (0.7) between eve mins and night mins. There is a close to 0 correlation between day mins, day charge and intl charge, intl plan, vmail, plan. This is because a user using a international plan or VMail plan has no correlation to the user using the service during day. There is a negative correlation between the user who uses international plan and user who doesn't use international plan. "
   ]
  },
  {
   "cell_type": "markdown",
   "metadata": {},
   "source": [
    "#### Problem 2a"
   ]
  },
  {
   "cell_type": "code",
   "execution_count": 11,
   "metadata": {},
   "outputs": [],
   "source": [
    "import tensorflow as tf\n",
    "from tensorflow import keras\n",
    "from tensorflow.keras import layers"
   ]
  },
  {
   "cell_type": "code",
   "execution_count": 12,
   "metadata": {},
   "outputs": [],
   "source": [
    "#create a 4-layer ANN\n",
    "\n",
    "model = keras.Sequential()\n",
    "model.add(layers.Dense(4, input_dim = scaled_values.shape[1], activation = 'sigmoid'))     #number of nodes = 4\n",
    "model.add(layers.Dense(4, activation = 'sigmoid'))\n",
    "model.add(layers.Dense(1, activation = 'sigmoid'))                    #output only has 1 node since it is binary classfication\n",
    "\n"
   ]
  },
  {
   "cell_type": "code",
   "execution_count": 13,
   "metadata": {},
   "outputs": [],
   "source": [
    "weights = []\n",
    "\n",
    "class FitCallback(keras.callbacks.Callback):\n",
    "    def on_train_batch_end(self, batch, logs = None):\n",
    "        weights.append(self.model.layers[1].get_weights())\n",
    "        \n",
    "        "
   ]
  },
  {
   "cell_type": "code",
   "execution_count": 14,
   "metadata": {},
   "outputs": [
    {
     "name": "stdout",
     "output_type": "stream",
     "text": [
      "Epoch 1/150\n",
      "47/47 [==============================] - 0s 10ms/step - loss: 0.1884 - accuracy: 0.8655 - precision: 0.0000e+00 - recall: 0.0000e+00 - val_loss: 0.1774 - val_accuracy: 0.8308 - val_precision: 0.0000e+00 - val_recall: 0.0000e+00\n",
      "Epoch 2/150\n",
      "47/47 [==============================] - 0s 1ms/step - loss: 0.1646 - accuracy: 0.8655 - precision: 0.0000e+00 - recall: 0.0000e+00 - val_loss: 0.1620 - val_accuracy: 0.8308 - val_precision: 0.0000e+00 - val_recall: 0.0000e+00\n",
      "Epoch 3/150\n",
      "47/47 [==============================] - 0s 2ms/step - loss: 0.1476 - accuracy: 0.8655 - precision: 0.0000e+00 - recall: 0.0000e+00 - val_loss: 0.1527 - val_accuracy: 0.8308 - val_precision: 0.0000e+00 - val_recall: 0.0000e+00\n",
      "Epoch 4/150\n",
      "47/47 [==============================] - 0s 2ms/step - loss: 0.1361 - accuracy: 0.8655 - precision: 0.0000e+00 - recall: 0.0000e+00 - val_loss: 0.1472 - val_accuracy: 0.8308 - val_precision: 0.0000e+00 - val_recall: 0.0000e+00\n",
      "Epoch 5/150\n",
      "47/47 [==============================] - 0s 2ms/step - loss: 0.1291 - accuracy: 0.8655 - precision: 0.0000e+00 - recall: 0.0000e+00 - val_loss: 0.1438 - val_accuracy: 0.8308 - val_precision: 0.0000e+00 - val_recall: 0.0000e+00\n",
      "Epoch 6/150\n",
      "47/47 [==============================] - 0s 2ms/step - loss: 0.1245 - accuracy: 0.8655 - precision: 0.0000e+00 - recall: 0.0000e+00 - val_loss: 0.1421 - val_accuracy: 0.8308 - val_precision: 0.0000e+00 - val_recall: 0.0000e+00\n",
      "Epoch 7/150\n",
      "47/47 [==============================] - 0s 1ms/step - loss: 0.1217 - accuracy: 0.8655 - precision: 0.0000e+00 - recall: 0.0000e+00 - val_loss: 0.1412 - val_accuracy: 0.8308 - val_precision: 0.0000e+00 - val_recall: 0.0000e+00\n",
      "Epoch 8/150\n",
      "47/47 [==============================] - 0s 1ms/step - loss: 0.1198 - accuracy: 0.8655 - precision: 0.0000e+00 - recall: 0.0000e+00 - val_loss: 0.1407 - val_accuracy: 0.8308 - val_precision: 0.0000e+00 - val_recall: 0.0000e+00\n",
      "Epoch 9/150\n",
      "47/47 [==============================] - 0s 2ms/step - loss: 0.1186 - accuracy: 0.8655 - precision: 0.0000e+00 - recall: 0.0000e+00 - val_loss: 0.1406 - val_accuracy: 0.8308 - val_precision: 0.0000e+00 - val_recall: 0.0000e+00\n",
      "Epoch 10/150\n",
      "47/47 [==============================] - 0s 1ms/step - loss: 0.1179 - accuracy: 0.8655 - precision: 0.0000e+00 - recall: 0.0000e+00 - val_loss: 0.1406 - val_accuracy: 0.8308 - val_precision: 0.0000e+00 - val_recall: 0.0000e+00\n",
      "Epoch 11/150\n",
      "47/47 [==============================] - 0s 2ms/step - loss: 0.1173 - accuracy: 0.8655 - precision: 0.0000e+00 - recall: 0.0000e+00 - val_loss: 0.1406 - val_accuracy: 0.8308 - val_precision: 0.0000e+00 - val_recall: 0.0000e+00\n",
      "Epoch 12/150\n",
      "47/47 [==============================] - 0s 1ms/step - loss: 0.1170 - accuracy: 0.8655 - precision: 0.0000e+00 - recall: 0.0000e+00 - val_loss: 0.1408 - val_accuracy: 0.8308 - val_precision: 0.0000e+00 - val_recall: 0.0000e+00\n",
      "Epoch 13/150\n",
      "47/47 [==============================] - 0s 2ms/step - loss: 0.1167 - accuracy: 0.8655 - precision: 0.0000e+00 - recall: 0.0000e+00 - val_loss: 0.1409 - val_accuracy: 0.8308 - val_precision: 0.0000e+00 - val_recall: 0.0000e+00\n",
      "Epoch 14/150\n",
      "47/47 [==============================] - 0s 2ms/step - loss: 0.1166 - accuracy: 0.8655 - precision: 0.0000e+00 - recall: 0.0000e+00 - val_loss: 0.1410 - val_accuracy: 0.8308 - val_precision: 0.0000e+00 - val_recall: 0.0000e+00\n",
      "Epoch 15/150\n",
      "47/47 [==============================] - 0s 2ms/step - loss: 0.1165 - accuracy: 0.8655 - precision: 0.0000e+00 - recall: 0.0000e+00 - val_loss: 0.1411 - val_accuracy: 0.8308 - val_precision: 0.0000e+00 - val_recall: 0.0000e+00\n",
      "Epoch 16/150\n",
      "47/47 [==============================] - 0s 2ms/step - loss: 0.1164 - accuracy: 0.8655 - precision: 0.0000e+00 - recall: 0.0000e+00 - val_loss: 0.1412 - val_accuracy: 0.8308 - val_precision: 0.0000e+00 - val_recall: 0.0000e+00\n",
      "Epoch 17/150\n",
      "47/47 [==============================] - 0s 2ms/step - loss: 0.1163 - accuracy: 0.8655 - precision: 0.0000e+00 - recall: 0.0000e+00 - val_loss: 0.1413 - val_accuracy: 0.8308 - val_precision: 0.0000e+00 - val_recall: 0.0000e+00\n",
      "Epoch 18/150\n",
      "47/47 [==============================] - 0s 1ms/step - loss: 0.1163 - accuracy: 0.8655 - precision: 0.0000e+00 - recall: 0.0000e+00 - val_loss: 0.1414 - val_accuracy: 0.8308 - val_precision: 0.0000e+00 - val_recall: 0.0000e+00\n",
      "Epoch 19/150\n",
      "47/47 [==============================] - 0s 2ms/step - loss: 0.1162 - accuracy: 0.8655 - precision: 0.0000e+00 - recall: 0.0000e+00 - val_loss: 0.1415 - val_accuracy: 0.8308 - val_precision: 0.0000e+00 - val_recall: 0.0000e+00\n",
      "Epoch 20/150\n",
      "47/47 [==============================] - 0s 1ms/step - loss: 0.1161 - accuracy: 0.8655 - precision: 0.0000e+00 - recall: 0.0000e+00 - val_loss: 0.1416 - val_accuracy: 0.8308 - val_precision: 0.0000e+00 - val_recall: 0.0000e+00\n",
      "Epoch 21/150\n",
      "47/47 [==============================] - 0s 1ms/step - loss: 0.1161 - accuracy: 0.8655 - precision: 0.0000e+00 - recall: 0.0000e+00 - val_loss: 0.1417 - val_accuracy: 0.8308 - val_precision: 0.0000e+00 - val_recall: 0.0000e+00\n",
      "Epoch 22/150\n",
      "47/47 [==============================] - 0s 1ms/step - loss: 0.1160 - accuracy: 0.8655 - precision: 0.0000e+00 - recall: 0.0000e+00 - val_loss: 0.1417 - val_accuracy: 0.8308 - val_precision: 0.0000e+00 - val_recall: 0.0000e+00\n",
      "Epoch 23/150\n",
      "47/47 [==============================] - 0s 2ms/step - loss: 0.1159 - accuracy: 0.8655 - precision: 0.0000e+00 - recall: 0.0000e+00 - val_loss: 0.1418 - val_accuracy: 0.8308 - val_precision: 0.0000e+00 - val_recall: 0.0000e+00\n",
      "Epoch 24/150\n",
      "47/47 [==============================] - 0s 2ms/step - loss: 0.1158 - accuracy: 0.8655 - precision: 0.0000e+00 - recall: 0.0000e+00 - val_loss: 0.1418 - val_accuracy: 0.8308 - val_precision: 0.0000e+00 - val_recall: 0.0000e+00\n",
      "Epoch 25/150\n",
      "47/47 [==============================] - 0s 2ms/step - loss: 0.1156 - accuracy: 0.8655 - precision: 0.0000e+00 - recall: 0.0000e+00 - val_loss: 0.1418 - val_accuracy: 0.8308 - val_precision: 0.0000e+00 - val_recall: 0.0000e+00\n",
      "Epoch 26/150\n",
      "47/47 [==============================] - 0s 1ms/step - loss: 0.1154 - accuracy: 0.8655 - precision: 0.0000e+00 - recall: 0.0000e+00 - val_loss: 0.1420 - val_accuracy: 0.8308 - val_precision: 0.0000e+00 - val_recall: 0.0000e+00\n",
      "Epoch 27/150\n",
      "47/47 [==============================] - 0s 1ms/step - loss: 0.1151 - accuracy: 0.8655 - precision: 0.0000e+00 - recall: 0.0000e+00 - val_loss: 0.1421 - val_accuracy: 0.8308 - val_precision: 0.0000e+00 - val_recall: 0.0000e+00\n",
      "Epoch 28/150\n",
      "47/47 [==============================] - 0s 2ms/step - loss: 0.1148 - accuracy: 0.8655 - precision: 0.0000e+00 - recall: 0.0000e+00 - val_loss: 0.1420 - val_accuracy: 0.8308 - val_precision: 0.0000e+00 - val_recall: 0.0000e+00\n",
      "Epoch 29/150\n",
      "47/47 [==============================] - 0s 1ms/step - loss: 0.1146 - accuracy: 0.8655 - precision: 0.0000e+00 - recall: 0.0000e+00 - val_loss: 0.1416 - val_accuracy: 0.8308 - val_precision: 0.0000e+00 - val_recall: 0.0000e+00\n",
      "Epoch 30/150\n",
      "47/47 [==============================] - 0s 2ms/step - loss: 0.1143 - accuracy: 0.8655 - precision: 0.0000e+00 - recall: 0.0000e+00 - val_loss: 0.1407 - val_accuracy: 0.8308 - val_precision: 0.0000e+00 - val_recall: 0.0000e+00\n",
      "Epoch 31/150\n",
      "47/47 [==============================] - 0s 2ms/step - loss: 0.1141 - accuracy: 0.8655 - precision: 0.0000e+00 - recall: 0.0000e+00 - val_loss: 0.1407 - val_accuracy: 0.8308 - val_precision: 0.0000e+00 - val_recall: 0.0000e+00\n",
      "Epoch 32/150\n",
      "47/47 [==============================] - 0s 1ms/step - loss: 0.1139 - accuracy: 0.8655 - precision: 0.0000e+00 - recall: 0.0000e+00 - val_loss: 0.1408 - val_accuracy: 0.8308 - val_precision: 0.0000e+00 - val_recall: 0.0000e+00\n",
      "Epoch 33/150\n",
      "47/47 [==============================] - 0s 2ms/step - loss: 0.1137 - accuracy: 0.8655 - precision: 0.0000e+00 - recall: 0.0000e+00 - val_loss: 0.1409 - val_accuracy: 0.8308 - val_precision: 0.0000e+00 - val_recall: 0.0000e+00\n",
      "Epoch 34/150\n",
      "47/47 [==============================] - 0s 2ms/step - loss: 0.1134 - accuracy: 0.8655 - precision: 0.0000e+00 - recall: 0.0000e+00 - val_loss: 0.1410 - val_accuracy: 0.8308 - val_precision: 0.0000e+00 - val_recall: 0.0000e+00\n",
      "Epoch 35/150\n"
     ]
    },
    {
     "name": "stdout",
     "output_type": "stream",
     "text": [
      "47/47 [==============================] - 0s 1ms/step - loss: 0.1132 - accuracy: 0.8655 - precision: 0.0000e+00 - recall: 0.0000e+00 - val_loss: 0.1410 - val_accuracy: 0.8308 - val_precision: 0.0000e+00 - val_recall: 0.0000e+00\n",
      "Epoch 36/150\n",
      "47/47 [==============================] - 0s 2ms/step - loss: 0.1128 - accuracy: 0.8655 - precision: 0.0000e+00 - recall: 0.0000e+00 - val_loss: 0.1405 - val_accuracy: 0.8308 - val_precision: 0.0000e+00 - val_recall: 0.0000e+00\n",
      "Epoch 37/150\n",
      "47/47 [==============================] - 0s 1ms/step - loss: 0.1124 - accuracy: 0.8655 - precision: 0.0000e+00 - recall: 0.0000e+00 - val_loss: 0.1393 - val_accuracy: 0.8308 - val_precision: 0.0000e+00 - val_recall: 0.0000e+00\n",
      "Epoch 38/150\n",
      "47/47 [==============================] - 0s 2ms/step - loss: 0.1120 - accuracy: 0.8655 - precision: 0.0000e+00 - recall: 0.0000e+00 - val_loss: 0.1390 - val_accuracy: 0.8308 - val_precision: 0.0000e+00 - val_recall: 0.0000e+00\n",
      "Epoch 39/150\n",
      "47/47 [==============================] - 0s 1ms/step - loss: 0.1115 - accuracy: 0.8655 - precision: 0.0000e+00 - recall: 0.0000e+00 - val_loss: 0.1375 - val_accuracy: 0.8308 - val_precision: 0.0000e+00 - val_recall: 0.0000e+00\n",
      "Epoch 40/150\n",
      "47/47 [==============================] - 0s 2ms/step - loss: 0.1111 - accuracy: 0.8655 - precision: 0.0000e+00 - recall: 0.0000e+00 - val_loss: 0.1375 - val_accuracy: 0.8308 - val_precision: 0.0000e+00 - val_recall: 0.0000e+00\n",
      "Epoch 41/150\n",
      "47/47 [==============================] - 0s 2ms/step - loss: 0.1106 - accuracy: 0.8655 - precision: 0.0000e+00 - recall: 0.0000e+00 - val_loss: 0.1394 - val_accuracy: 0.8308 - val_precision: 0.0000e+00 - val_recall: 0.0000e+00\n",
      "Epoch 42/150\n",
      "47/47 [==============================] - 0s 1ms/step - loss: 0.1102 - accuracy: 0.8655 - precision: 0.0000e+00 - recall: 0.0000e+00 - val_loss: 0.1420 - val_accuracy: 0.8308 - val_precision: 0.0000e+00 - val_recall: 0.0000e+00\n",
      "Epoch 43/150\n",
      "47/47 [==============================] - 0s 1ms/step - loss: 0.1098 - accuracy: 0.8655 - precision: 0.0000e+00 - recall: 0.0000e+00 - val_loss: 0.1435 - val_accuracy: 0.8308 - val_precision: 0.0000e+00 - val_recall: 0.0000e+00\n",
      "Epoch 44/150\n",
      "47/47 [==============================] - 0s 2ms/step - loss: 0.1093 - accuracy: 0.8655 - precision: 0.0000e+00 - recall: 0.0000e+00 - val_loss: 0.1457 - val_accuracy: 0.8308 - val_precision: 0.0000e+00 - val_recall: 0.0000e+00\n",
      "Epoch 45/150\n",
      "47/47 [==============================] - 0s 2ms/step - loss: 0.1089 - accuracy: 0.8655 - precision: 0.0000e+00 - recall: 0.0000e+00 - val_loss: 0.1471 - val_accuracy: 0.8308 - val_precision: 0.0000e+00 - val_recall: 0.0000e+00\n",
      "Epoch 46/150\n",
      "47/47 [==============================] - 0s 1ms/step - loss: 0.1084 - accuracy: 0.8655 - precision: 0.0000e+00 - recall: 0.0000e+00 - val_loss: 0.1489 - val_accuracy: 0.8308 - val_precision: 0.0000e+00 - val_recall: 0.0000e+00\n",
      "Epoch 47/150\n",
      "47/47 [==============================] - 0s 1ms/step - loss: 0.1080 - accuracy: 0.8655 - precision: 0.0000e+00 - recall: 0.0000e+00 - val_loss: 0.1510 - val_accuracy: 0.8308 - val_precision: 0.0000e+00 - val_recall: 0.0000e+00\n",
      "Epoch 48/150\n",
      "47/47 [==============================] - 0s 2ms/step - loss: 0.1076 - accuracy: 0.8655 - precision: 0.0000e+00 - recall: 0.0000e+00 - val_loss: 0.1525 - val_accuracy: 0.8308 - val_precision: 0.0000e+00 - val_recall: 0.0000e+00\n",
      "Epoch 49/150\n",
      "47/47 [==============================] - 0s 1ms/step - loss: 0.1071 - accuracy: 0.8655 - precision: 0.0000e+00 - recall: 0.0000e+00 - val_loss: 0.1549 - val_accuracy: 0.8308 - val_precision: 0.0000e+00 - val_recall: 0.0000e+00\n",
      "Epoch 50/150\n",
      "47/47 [==============================] - 0s 1ms/step - loss: 0.1067 - accuracy: 0.8655 - precision: 0.0000e+00 - recall: 0.0000e+00 - val_loss: 0.1566 - val_accuracy: 0.8308 - val_precision: 0.0000e+00 - val_recall: 0.0000e+00\n",
      "Epoch 51/150\n",
      "47/47 [==============================] - 0s 2ms/step - loss: 0.1063 - accuracy: 0.8655 - precision: 0.0000e+00 - recall: 0.0000e+00 - val_loss: 0.1584 - val_accuracy: 0.8308 - val_precision: 0.0000e+00 - val_recall: 0.0000e+00\n",
      "Epoch 52/150\n",
      "47/47 [==============================] - 0s 2ms/step - loss: 0.1058 - accuracy: 0.8655 - precision: 0.0000e+00 - recall: 0.0000e+00 - val_loss: 0.1602 - val_accuracy: 0.8308 - val_precision: 0.0000e+00 - val_recall: 0.0000e+00\n",
      "Epoch 53/150\n",
      "47/47 [==============================] - 0s 1ms/step - loss: 0.1054 - accuracy: 0.8655 - precision: 0.0000e+00 - recall: 0.0000e+00 - val_loss: 0.1617 - val_accuracy: 0.8308 - val_precision: 0.0000e+00 - val_recall: 0.0000e+00\n",
      "Epoch 54/150\n",
      "47/47 [==============================] - 0s 2ms/step - loss: 0.1050 - accuracy: 0.8655 - precision: 0.0000e+00 - recall: 0.0000e+00 - val_loss: 0.1648 - val_accuracy: 0.8308 - val_precision: 0.0000e+00 - val_recall: 0.0000e+00\n",
      "Epoch 55/150\n",
      "47/47 [==============================] - 0s 2ms/step - loss: 0.1046 - accuracy: 0.8655 - precision: 0.0000e+00 - recall: 0.0000e+00 - val_loss: 0.1670 - val_accuracy: 0.8308 - val_precision: 0.0000e+00 - val_recall: 0.0000e+00\n",
      "Epoch 56/150\n",
      "47/47 [==============================] - 0s 2ms/step - loss: 0.1042 - accuracy: 0.8655 - precision: 0.0000e+00 - recall: 0.0000e+00 - val_loss: 0.1689 - val_accuracy: 0.8308 - val_precision: 0.0000e+00 - val_recall: 0.0000e+00\n",
      "Epoch 57/150\n",
      "47/47 [==============================] - 0s 1ms/step - loss: 0.1038 - accuracy: 0.8655 - precision: 0.0000e+00 - recall: 0.0000e+00 - val_loss: 0.1708 - val_accuracy: 0.8308 - val_precision: 0.0000e+00 - val_recall: 0.0000e+00\n",
      "Epoch 58/150\n",
      "47/47 [==============================] - 0s 2ms/step - loss: 0.1034 - accuracy: 0.8655 - precision: 0.0000e+00 - recall: 0.0000e+00 - val_loss: 0.1738 - val_accuracy: 0.8308 - val_precision: 0.0000e+00 - val_recall: 0.0000e+00\n",
      "Epoch 59/150\n",
      "47/47 [==============================] - 0s 1ms/step - loss: 0.1030 - accuracy: 0.8655 - precision: 0.0000e+00 - recall: 0.0000e+00 - val_loss: 0.1760 - val_accuracy: 0.8308 - val_precision: 0.0000e+00 - val_recall: 0.0000e+00\n",
      "Epoch 60/150\n",
      "47/47 [==============================] - 0s 2ms/step - loss: 0.1026 - accuracy: 0.8655 - precision: 0.0000e+00 - recall: 0.0000e+00 - val_loss: 0.1785 - val_accuracy: 0.8308 - val_precision: 0.0000e+00 - val_recall: 0.0000e+00\n",
      "Epoch 61/150\n",
      "47/47 [==============================] - 0s 2ms/step - loss: 0.1023 - accuracy: 0.8655 - precision: 0.0000e+00 - recall: 0.0000e+00 - val_loss: 0.1812 - val_accuracy: 0.8308 - val_precision: 0.0000e+00 - val_recall: 0.0000e+00\n",
      "Epoch 62/150\n",
      "47/47 [==============================] - 0s 2ms/step - loss: 0.1019 - accuracy: 0.8655 - precision: 0.0000e+00 - recall: 0.0000e+00 - val_loss: 0.1837 - val_accuracy: 0.8308 - val_precision: 0.0000e+00 - val_recall: 0.0000e+00\n",
      "Epoch 63/150\n",
      "47/47 [==============================] - 0s 2ms/step - loss: 0.1015 - accuracy: 0.8655 - precision: 0.0000e+00 - recall: 0.0000e+00 - val_loss: 0.1867 - val_accuracy: 0.8308 - val_precision: 0.0000e+00 - val_recall: 0.0000e+00\n",
      "Epoch 64/150\n",
      "47/47 [==============================] - 0s 2ms/step - loss: 0.1012 - accuracy: 0.8655 - precision: 0.0000e+00 - recall: 0.0000e+00 - val_loss: 0.1893 - val_accuracy: 0.8308 - val_precision: 0.0000e+00 - val_recall: 0.0000e+00\n",
      "Epoch 65/150\n",
      "47/47 [==============================] - 0s 2ms/step - loss: 0.1009 - accuracy: 0.8655 - precision: 0.0000e+00 - recall: 0.0000e+00 - val_loss: 0.1919 - val_accuracy: 0.8308 - val_precision: 0.0000e+00 - val_recall: 0.0000e+00\n",
      "Epoch 66/150\n",
      "47/47 [==============================] - 0s 1ms/step - loss: 0.1005 - accuracy: 0.8655 - precision: 0.0000e+00 - recall: 0.0000e+00 - val_loss: 0.1959 - val_accuracy: 0.8308 - val_precision: 0.0000e+00 - val_recall: 0.0000e+00\n",
      "Epoch 67/150\n",
      "47/47 [==============================] - 0s 1ms/step - loss: 0.1002 - accuracy: 0.8655 - precision: 0.0000e+00 - recall: 0.0000e+00 - val_loss: 0.1990 - val_accuracy: 0.8308 - val_precision: 0.0000e+00 - val_recall: 0.0000e+00\n",
      "Epoch 68/150\n",
      "47/47 [==============================] - 0s 2ms/step - loss: 0.0999 - accuracy: 0.8655 - precision: 0.0000e+00 - recall: 0.0000e+00 - val_loss: 0.2016 - val_accuracy: 0.8308 - val_precision: 0.0000e+00 - val_recall: 0.0000e+00\n",
      "Epoch 69/150\n"
     ]
    },
    {
     "name": "stdout",
     "output_type": "stream",
     "text": [
      "47/47 [==============================] - 0s 1ms/step - loss: 0.0996 - accuracy: 0.8655 - precision: 0.0000e+00 - recall: 0.0000e+00 - val_loss: 0.2041 - val_accuracy: 0.8308 - val_precision: 0.0000e+00 - val_recall: 0.0000e+00\n",
      "Epoch 70/150\n",
      "47/47 [==============================] - 0s 1ms/step - loss: 0.0993 - accuracy: 0.8655 - precision: 0.0000e+00 - recall: 0.0000e+00 - val_loss: 0.2076 - val_accuracy: 0.8308 - val_precision: 0.0000e+00 - val_recall: 0.0000e+00\n",
      "Epoch 71/150\n",
      "47/47 [==============================] - 0s 1ms/step - loss: 0.0990 - accuracy: 0.8655 - precision: 0.0000e+00 - recall: 0.0000e+00 - val_loss: 0.2104 - val_accuracy: 0.8308 - val_precision: 0.0000e+00 - val_recall: 0.0000e+00\n",
      "Epoch 72/150\n",
      "47/47 [==============================] - 0s 1ms/step - loss: 0.0987 - accuracy: 0.8655 - precision: 0.0000e+00 - recall: 0.0000e+00 - val_loss: 0.2133 - val_accuracy: 0.8308 - val_precision: 0.0000e+00 - val_recall: 0.0000e+00\n",
      "Epoch 73/150\n",
      "47/47 [==============================] - 0s 2ms/step - loss: 0.0985 - accuracy: 0.8655 - precision: 0.0000e+00 - recall: 0.0000e+00 - val_loss: 0.2162 - val_accuracy: 0.8308 - val_precision: 0.0000e+00 - val_recall: 0.0000e+00\n",
      "Epoch 74/150\n",
      "47/47 [==============================] - 0s 2ms/step - loss: 0.0983 - accuracy: 0.8655 - precision: 0.0000e+00 - recall: 0.0000e+00 - val_loss: 0.2192 - val_accuracy: 0.8308 - val_precision: 0.0000e+00 - val_recall: 0.0000e+00\n",
      "Epoch 75/150\n",
      "47/47 [==============================] - 0s 1ms/step - loss: 0.0981 - accuracy: 0.8655 - precision: 0.0000e+00 - recall: 0.0000e+00 - val_loss: 0.2231 - val_accuracy: 0.8308 - val_precision: 0.0000e+00 - val_recall: 0.0000e+00\n",
      "Epoch 76/150\n",
      "47/47 [==============================] - 0s 2ms/step - loss: 0.0978 - accuracy: 0.8655 - precision: 0.0000e+00 - recall: 0.0000e+00 - val_loss: 0.2249 - val_accuracy: 0.8308 - val_precision: 0.0000e+00 - val_recall: 0.0000e+00\n",
      "Epoch 77/150\n",
      "47/47 [==============================] - 0s 2ms/step - loss: 0.0975 - accuracy: 0.8655 - precision: 0.0000e+00 - recall: 0.0000e+00 - val_loss: 0.2278 - val_accuracy: 0.8308 - val_precision: 0.0000e+00 - val_recall: 0.0000e+00\n",
      "Epoch 78/150\n",
      "47/47 [==============================] - 0s 2ms/step - loss: 0.0973 - accuracy: 0.8655 - precision: 0.0000e+00 - recall: 0.0000e+00 - val_loss: 0.2312 - val_accuracy: 0.8308 - val_precision: 0.0000e+00 - val_recall: 0.0000e+00\n",
      "Epoch 79/150\n",
      "47/47 [==============================] - 0s 2ms/step - loss: 0.0971 - accuracy: 0.8655 - precision: 0.0000e+00 - recall: 0.0000e+00 - val_loss: 0.2332 - val_accuracy: 0.8308 - val_precision: 0.0000e+00 - val_recall: 0.0000e+00\n",
      "Epoch 80/150\n",
      "47/47 [==============================] - 0s 2ms/step - loss: 0.0969 - accuracy: 0.8655 - precision: 0.0000e+00 - recall: 0.0000e+00 - val_loss: 0.2362 - val_accuracy: 0.8308 - val_precision: 0.0000e+00 - val_recall: 0.0000e+00\n",
      "Epoch 81/150\n",
      "47/47 [==============================] - 0s 1ms/step - loss: 0.0967 - accuracy: 0.8655 - precision: 0.0000e+00 - recall: 0.0000e+00 - val_loss: 0.2390 - val_accuracy: 0.8308 - val_precision: 0.0000e+00 - val_recall: 0.0000e+00\n",
      "Epoch 82/150\n",
      "47/47 [==============================] - 0s 1ms/step - loss: 0.0965 - accuracy: 0.8655 - precision: 0.0000e+00 - recall: 0.0000e+00 - val_loss: 0.2419 - val_accuracy: 0.8308 - val_precision: 0.0000e+00 - val_recall: 0.0000e+00\n",
      "Epoch 83/150\n",
      "47/47 [==============================] - 0s 1ms/step - loss: 0.0963 - accuracy: 0.8655 - precision: 0.0000e+00 - recall: 0.0000e+00 - val_loss: 0.2453 - val_accuracy: 0.8308 - val_precision: 0.0000e+00 - val_recall: 0.0000e+00\n",
      "Epoch 84/150\n",
      "47/47 [==============================] - 0s 1ms/step - loss: 0.0962 - accuracy: 0.8655 - precision: 0.0000e+00 - recall: 0.0000e+00 - val_loss: 0.2479 - val_accuracy: 0.8308 - val_precision: 0.0000e+00 - val_recall: 0.0000e+00\n",
      "Epoch 85/150\n",
      "47/47 [==============================] - 0s 1ms/step - loss: 0.0960 - accuracy: 0.8655 - precision: 0.0000e+00 - recall: 0.0000e+00 - val_loss: 0.2496 - val_accuracy: 0.1742 - val_precision: 0.1700 - val_recall: 1.0000\n",
      "Epoch 86/150\n",
      "47/47 [==============================] - 0s 1ms/step - loss: 0.0958 - accuracy: 0.8655 - precision: 0.0000e+00 - recall: 0.0000e+00 - val_loss: 0.2543 - val_accuracy: 0.1742 - val_precision: 0.1700 - val_recall: 1.0000\n",
      "Epoch 87/150\n",
      "47/47 [==============================] - 0s 2ms/step - loss: 0.0956 - accuracy: 0.8655 - precision: 0.0000e+00 - recall: 0.0000e+00 - val_loss: 0.2556 - val_accuracy: 0.1742 - val_precision: 0.1700 - val_recall: 1.0000\n",
      "Epoch 88/150\n",
      "47/47 [==============================] - 0s 1ms/step - loss: 0.0955 - accuracy: 0.8664 - precision: 1.0000 - recall: 0.0064 - val_loss: 0.2569 - val_accuracy: 0.1742 - val_precision: 0.1700 - val_recall: 1.0000\n",
      "Epoch 89/150\n",
      "47/47 [==============================] - 0s 1ms/step - loss: 0.0954 - accuracy: 0.8668 - precision: 0.6364 - recall: 0.0224 - val_loss: 0.2602 - val_accuracy: 0.1742 - val_precision: 0.1700 - val_recall: 1.0000\n",
      "Epoch 90/150\n",
      "47/47 [==============================] - 0s 1ms/step - loss: 0.0952 - accuracy: 0.8664 - precision: 0.6250 - recall: 0.0160 - val_loss: 0.2616 - val_accuracy: 0.1742 - val_precision: 0.1700 - val_recall: 1.0000\n",
      "Epoch 91/150\n",
      "47/47 [==============================] - 0s 2ms/step - loss: 0.0951 - accuracy: 0.8686 - precision: 0.6522 - recall: 0.0479 - val_loss: 0.2646 - val_accuracy: 0.1742 - val_precision: 0.1700 - val_recall: 1.0000\n",
      "Epoch 92/150\n",
      "47/47 [==============================] - 0s 2ms/step - loss: 0.0949 - accuracy: 0.8686 - precision: 0.6296 - recall: 0.0543 - val_loss: 0.2659 - val_accuracy: 0.1742 - val_precision: 0.1700 - val_recall: 1.0000\n",
      "Epoch 93/150\n",
      "47/47 [==============================] - 0s 2ms/step - loss: 0.0948 - accuracy: 0.8686 - precision: 0.6000 - recall: 0.0671 - val_loss: 0.2695 - val_accuracy: 0.1732 - val_precision: 0.1698 - val_recall: 1.0000\n",
      "Epoch 94/150\n",
      "47/47 [==============================] - 0s 2ms/step - loss: 0.0947 - accuracy: 0.8681 - precision: 0.5652 - recall: 0.0831 - val_loss: 0.2704 - val_accuracy: 0.1742 - val_precision: 0.1700 - val_recall: 1.0000\n",
      "Epoch 95/150\n",
      "47/47 [==============================] - 0s 2ms/step - loss: 0.0945 - accuracy: 0.8690 - precision: 0.6053 - recall: 0.0735 - val_loss: 0.2734 - val_accuracy: 0.1712 - val_precision: 0.1695 - val_recall: 1.0000\n",
      "Epoch 96/150\n",
      "47/47 [==============================] - 0s 2ms/step - loss: 0.0944 - accuracy: 0.8677 - precision: 0.5373 - recall: 0.1150 - val_loss: 0.2764 - val_accuracy: 0.1702 - val_precision: 0.1693 - val_recall: 1.0000\n",
      "Epoch 97/150\n",
      "47/47 [==============================] - 0s 1ms/step - loss: 0.0943 - accuracy: 0.8681 - precision: 0.5469 - recall: 0.1118 - val_loss: 0.2787 - val_accuracy: 0.1702 - val_precision: 0.1693 - val_recall: 1.0000\n",
      "Epoch 98/150\n",
      "47/47 [==============================] - 0s 1ms/step - loss: 0.0941 - accuracy: 0.8677 - precision: 0.5362 - recall: 0.1182 - val_loss: 0.2806 - val_accuracy: 0.1702 - val_precision: 0.1693 - val_recall: 1.0000\n",
      "Epoch 99/150\n",
      "47/47 [==============================] - 0s 2ms/step - loss: 0.0940 - accuracy: 0.8673 - precision: 0.5278 - recall: 0.1214 - val_loss: 0.2825 - val_accuracy: 0.1702 - val_precision: 0.1693 - val_recall: 1.0000\n",
      "Epoch 100/150\n",
      "47/47 [==============================] - 0s 2ms/step - loss: 0.0939 - accuracy: 0.8677 - precision: 0.5342 - recall: 0.1246 - val_loss: 0.2850 - val_accuracy: 0.1692 - val_precision: 0.1692 - val_recall: 1.0000\n",
      "Epoch 101/150\n",
      "47/47 [==============================] - 0s 2ms/step - loss: 0.0938 - accuracy: 0.8677 - precision: 0.5325 - recall: 0.1310 - val_loss: 0.2880 - val_accuracy: 0.1692 - val_precision: 0.1692 - val_recall: 1.0000\n",
      "Epoch 102/150\n",
      "47/47 [==============================] - 0s 1ms/step - loss: 0.0937 - accuracy: 0.8686 - precision: 0.5443 - recall: 0.1374 - val_loss: 0.2888 - val_accuracy: 0.1702 - val_precision: 0.1693 - val_recall: 1.0000\n",
      "Epoch 103/150\n",
      "47/47 [==============================] - 0s 1ms/step - loss: 0.0936 - accuracy: 0.8686 - precision: 0.5443 - recall: 0.1374 - val_loss: 0.2891 - val_accuracy: 0.1692 - val_precision: 0.1692 - val_recall: 1.0000\n",
      "Epoch 104/150\n"
     ]
    },
    {
     "name": "stdout",
     "output_type": "stream",
     "text": [
      "47/47 [==============================] - 0s 1ms/step - loss: 0.0935 - accuracy: 0.8677 - precision: 0.5281 - recall: 0.1502 - val_loss: 0.2937 - val_accuracy: 0.1692 - val_precision: 0.1692 - val_recall: 1.0000\n",
      "Epoch 105/150\n",
      "47/47 [==============================] - 0s 2ms/step - loss: 0.0934 - accuracy: 0.8690 - precision: 0.5488 - recall: 0.1438 - val_loss: 0.2943 - val_accuracy: 0.1692 - val_precision: 0.1692 - val_recall: 1.0000\n",
      "Epoch 106/150\n",
      "47/47 [==============================] - 0s 2ms/step - loss: 0.0934 - accuracy: 0.8673 - precision: 0.5213 - recall: 0.1565 - val_loss: 0.2954 - val_accuracy: 0.1692 - val_precision: 0.1692 - val_recall: 1.0000\n",
      "Epoch 107/150\n",
      "47/47 [==============================] - 0s 2ms/step - loss: 0.0932 - accuracy: 0.8681 - precision: 0.5333 - recall: 0.1534 - val_loss: 0.2980 - val_accuracy: 0.1692 - val_precision: 0.1692 - val_recall: 1.0000\n",
      "Epoch 108/150\n",
      "47/47 [==============================] - 0s 2ms/step - loss: 0.0932 - accuracy: 0.8686 - precision: 0.5376 - recall: 0.1597 - val_loss: 0.3013 - val_accuracy: 0.1692 - val_precision: 0.1692 - val_recall: 1.0000\n",
      "Epoch 109/150\n",
      "47/47 [==============================] - 0s 2ms/step - loss: 0.0930 - accuracy: 0.8686 - precision: 0.5340 - recall: 0.1757 - val_loss: 0.3018 - val_accuracy: 0.1692 - val_precision: 0.1692 - val_recall: 1.0000\n",
      "Epoch 110/150\n",
      "47/47 [==============================] - 0s 2ms/step - loss: 0.0931 - accuracy: 0.8677 - precision: 0.5248 - recall: 0.1693 - val_loss: 0.3027 - val_accuracy: 0.1692 - val_precision: 0.1692 - val_recall: 1.0000\n",
      "Epoch 111/150\n",
      "47/47 [==============================] - 0s 2ms/step - loss: 0.0929 - accuracy: 0.8690 - precision: 0.5444 - recall: 0.1565 - val_loss: 0.3055 - val_accuracy: 0.1692 - val_precision: 0.1692 - val_recall: 1.0000\n",
      "Epoch 112/150\n",
      "47/47 [==============================] - 0s 1ms/step - loss: 0.0928 - accuracy: 0.8690 - precision: 0.5385 - recall: 0.1789 - val_loss: 0.3060 - val_accuracy: 0.1692 - val_precision: 0.1692 - val_recall: 1.0000\n",
      "Epoch 113/150\n",
      "47/47 [==============================] - 0s 1ms/step - loss: 0.0927 - accuracy: 0.8694 - precision: 0.5455 - recall: 0.1725 - val_loss: 0.3080 - val_accuracy: 0.1692 - val_precision: 0.1692 - val_recall: 1.0000\n",
      "Epoch 114/150\n",
      "47/47 [==============================] - 0s 1ms/step - loss: 0.0927 - accuracy: 0.8686 - precision: 0.5310 - recall: 0.1917 - val_loss: 0.3094 - val_accuracy: 0.1692 - val_precision: 0.1692 - val_recall: 1.0000\n",
      "Epoch 115/150\n",
      "47/47 [==============================] - 0s 1ms/step - loss: 0.0925 - accuracy: 0.8686 - precision: 0.5333 - recall: 0.1789 - val_loss: 0.3113 - val_accuracy: 0.1692 - val_precision: 0.1692 - val_recall: 1.0000\n",
      "Epoch 116/150\n",
      "47/47 [==============================] - 0s 2ms/step - loss: 0.0924 - accuracy: 0.8681 - precision: 0.5288 - recall: 0.1757 - val_loss: 0.3134 - val_accuracy: 0.1692 - val_precision: 0.1692 - val_recall: 1.0000\n",
      "Epoch 117/150\n",
      "47/47 [==============================] - 0s 2ms/step - loss: 0.0925 - accuracy: 0.8686 - precision: 0.5347 - recall: 0.1725 - val_loss: 0.3146 - val_accuracy: 0.1692 - val_precision: 0.1692 - val_recall: 1.0000\n",
      "Epoch 118/150\n",
      "47/47 [==============================] - 0s 1ms/step - loss: 0.0925 - accuracy: 0.8690 - precision: 0.5345 - recall: 0.1981 - val_loss: 0.3191 - val_accuracy: 0.1692 - val_precision: 0.1692 - val_recall: 1.0000\n",
      "Epoch 119/150\n",
      "47/47 [==============================] - 0s 2ms/step - loss: 0.0923 - accuracy: 0.8690 - precision: 0.5351 - recall: 0.1949 - val_loss: 0.3181 - val_accuracy: 0.1692 - val_precision: 0.1692 - val_recall: 1.0000\n",
      "Epoch 120/150\n",
      "47/47 [==============================] - 0s 2ms/step - loss: 0.0922 - accuracy: 0.8686 - precision: 0.5299 - recall: 0.1981 - val_loss: 0.3198 - val_accuracy: 0.1692 - val_precision: 0.1692 - val_recall: 1.0000\n",
      "Epoch 121/150\n",
      "47/47 [==============================] - 0s 1ms/step - loss: 0.0922 - accuracy: 0.8694 - precision: 0.5391 - recall: 0.1981 - val_loss: 0.3211 - val_accuracy: 0.1692 - val_precision: 0.1692 - val_recall: 1.0000\n",
      "Epoch 122/150\n",
      "47/47 [==============================] - 0s 1ms/step - loss: 0.0920 - accuracy: 0.8681 - precision: 0.5254 - recall: 0.1981 - val_loss: 0.3223 - val_accuracy: 0.1692 - val_precision: 0.1692 - val_recall: 1.0000\n",
      "Epoch 123/150\n",
      "47/47 [==============================] - 0s 1ms/step - loss: 0.0920 - accuracy: 0.8686 - precision: 0.5289 - recall: 0.2045 - val_loss: 0.3228 - val_accuracy: 0.1692 - val_precision: 0.1692 - val_recall: 1.0000\n",
      "Epoch 124/150\n",
      "47/47 [==============================] - 0s 2ms/step - loss: 0.0920 - accuracy: 0.8681 - precision: 0.5254 - recall: 0.1981 - val_loss: 0.3243 - val_accuracy: 0.1692 - val_precision: 0.1692 - val_recall: 1.0000\n",
      "Epoch 125/150\n",
      "47/47 [==============================] - 0s 2ms/step - loss: 0.0919 - accuracy: 0.8686 - precision: 0.5321 - recall: 0.1853 - val_loss: 0.3251 - val_accuracy: 0.1692 - val_precision: 0.1692 - val_recall: 1.0000\n",
      "Epoch 126/150\n",
      "47/47 [==============================] - 0s 1ms/step - loss: 0.0918 - accuracy: 0.8681 - precision: 0.5254 - recall: 0.1981 - val_loss: 0.3275 - val_accuracy: 0.1692 - val_precision: 0.1692 - val_recall: 1.0000\n",
      "Epoch 127/150\n",
      "47/47 [==============================] - 0s 1ms/step - loss: 0.0917 - accuracy: 0.8681 - precision: 0.5250 - recall: 0.2013 - val_loss: 0.3296 - val_accuracy: 0.1692 - val_precision: 0.1692 - val_recall: 1.0000\n",
      "Epoch 128/150\n",
      "47/47 [==============================] - 0s 1ms/step - loss: 0.0918 - accuracy: 0.8681 - precision: 0.5254 - recall: 0.1981 - val_loss: 0.3308 - val_accuracy: 0.1692 - val_precision: 0.1692 - val_recall: 1.0000\n",
      "Epoch 129/150\n",
      "47/47 [==============================] - 0s 1ms/step - loss: 0.0918 - accuracy: 0.8673 - precision: 0.5152 - recall: 0.2173 - val_loss: 0.3321 - val_accuracy: 0.1692 - val_precision: 0.1692 - val_recall: 1.0000\n",
      "Epoch 130/150\n",
      "47/47 [==============================] - 0s 2ms/step - loss: 0.0916 - accuracy: 0.8690 - precision: 0.5339 - recall: 0.2013 - val_loss: 0.3319 - val_accuracy: 0.1692 - val_precision: 0.1692 - val_recall: 1.0000\n",
      "Epoch 131/150\n",
      "47/47 [==============================] - 0s 1ms/step - loss: 0.0915 - accuracy: 0.8681 - precision: 0.5250 - recall: 0.2013 - val_loss: 0.3353 - val_accuracy: 0.1692 - val_precision: 0.1692 - val_recall: 1.0000\n",
      "Epoch 132/150\n",
      "47/47 [==============================] - 0s 1ms/step - loss: 0.0915 - accuracy: 0.8686 - precision: 0.5289 - recall: 0.2045 - val_loss: 0.3348 - val_accuracy: 0.1692 - val_precision: 0.1692 - val_recall: 1.0000\n",
      "Epoch 133/150\n",
      "47/47 [==============================] - 0s 1ms/step - loss: 0.0915 - accuracy: 0.8686 - precision: 0.5289 - recall: 0.2045 - val_loss: 0.3373 - val_accuracy: 0.1692 - val_precision: 0.1692 - val_recall: 1.0000\n",
      "Epoch 134/150\n",
      "47/47 [==============================] - 0s 2ms/step - loss: 0.0914 - accuracy: 0.8698 - precision: 0.5397 - recall: 0.2173 - val_loss: 0.3380 - val_accuracy: 0.1692 - val_precision: 0.1692 - val_recall: 1.0000\n",
      "Epoch 135/150\n",
      "47/47 [==============================] - 0s 2ms/step - loss: 0.0914 - accuracy: 0.8698 - precision: 0.5403 - recall: 0.2141 - val_loss: 0.3388 - val_accuracy: 0.1692 - val_precision: 0.1692 - val_recall: 1.0000\n",
      "Epoch 136/150\n",
      "47/47 [==============================] - 0s 2ms/step - loss: 0.0913 - accuracy: 0.8694 - precision: 0.5360 - recall: 0.2141 - val_loss: 0.3402 - val_accuracy: 0.1692 - val_precision: 0.1692 - val_recall: 1.0000\n",
      "Epoch 137/150\n",
      "47/47 [==============================] - 0s 1ms/step - loss: 0.0913 - accuracy: 0.8686 - precision: 0.5289 - recall: 0.2045 - val_loss: 0.3405 - val_accuracy: 0.1692 - val_precision: 0.1692 - val_recall: 1.0000\n",
      "Epoch 138/150\n",
      "47/47 [==============================] - 0s 2ms/step - loss: 0.0914 - accuracy: 0.8694 - precision: 0.5354 - recall: 0.2173 - val_loss: 0.3419 - val_accuracy: 0.1692 - val_precision: 0.1692 - val_recall: 1.0000\n",
      "Epoch 139/150\n",
      "47/47 [==============================] - 0s 1ms/step - loss: 0.0913 - accuracy: 0.8703 - precision: 0.5447 - recall: 0.2141 - val_loss: 0.3447 - val_accuracy: 0.1692 - val_precision: 0.1692 - val_recall: 1.0000\n",
      "Epoch 140/150\n"
     ]
    },
    {
     "name": "stdout",
     "output_type": "stream",
     "text": [
      "47/47 [==============================] - 0s 2ms/step - loss: 0.0911 - accuracy: 0.8707 - precision: 0.5476 - recall: 0.2204 - val_loss: 0.3434 - val_accuracy: 0.1692 - val_precision: 0.1692 - val_recall: 1.0000\n",
      "Epoch 141/150\n",
      "47/47 [==============================] - 0s 2ms/step - loss: 0.0911 - accuracy: 0.8703 - precision: 0.5455 - recall: 0.2109 - val_loss: 0.3451 - val_accuracy: 0.1692 - val_precision: 0.1692 - val_recall: 1.0000\n",
      "Epoch 142/150\n",
      "47/47 [==============================] - 0s 2ms/step - loss: 0.0912 - accuracy: 0.8694 - precision: 0.5338 - recall: 0.2268 - val_loss: 0.3461 - val_accuracy: 0.1692 - val_precision: 0.1692 - val_recall: 1.0000\n",
      "Epoch 143/150\n",
      "47/47 [==============================] - 0s 1ms/step - loss: 0.0910 - accuracy: 0.8707 - precision: 0.5500 - recall: 0.2109 - val_loss: 0.3467 - val_accuracy: 0.1692 - val_precision: 0.1692 - val_recall: 1.0000\n",
      "Epoch 144/150\n",
      "47/47 [==============================] - 0s 1ms/step - loss: 0.0910 - accuracy: 0.8711 - precision: 0.5504 - recall: 0.2268 - val_loss: 0.3487 - val_accuracy: 0.1692 - val_precision: 0.1692 - val_recall: 1.0000\n",
      "Epoch 145/150\n",
      "47/47 [==============================] - 0s 1ms/step - loss: 0.0910 - accuracy: 0.8698 - precision: 0.5417 - recall: 0.2077 - val_loss: 0.3476 - val_accuracy: 0.1692 - val_precision: 0.1692 - val_recall: 1.0000\n",
      "Epoch 146/150\n",
      "47/47 [==============================] - 0s 2ms/step - loss: 0.0909 - accuracy: 0.8703 - precision: 0.5440 - recall: 0.2173 - val_loss: 0.3499 - val_accuracy: 0.1692 - val_precision: 0.1692 - val_recall: 1.0000\n",
      "Epoch 147/150\n",
      "47/47 [==============================] - 0s 2ms/step - loss: 0.0908 - accuracy: 0.8707 - precision: 0.5469 - recall: 0.2236 - val_loss: 0.3500 - val_accuracy: 0.1692 - val_precision: 0.1692 - val_recall: 1.0000\n",
      "Epoch 148/150\n",
      "47/47 [==============================] - 0s 2ms/step - loss: 0.0909 - accuracy: 0.8707 - precision: 0.5508 - recall: 0.2077 - val_loss: 0.3521 - val_accuracy: 0.1692 - val_precision: 0.1692 - val_recall: 1.0000\n",
      "Epoch 149/150\n",
      "47/47 [==============================] - 0s 2ms/step - loss: 0.0909 - accuracy: 0.8729 - precision: 0.5639 - recall: 0.2396 - val_loss: 0.3529 - val_accuracy: 0.1692 - val_precision: 0.1692 - val_recall: 1.0000\n",
      "Epoch 150/150\n",
      "47/47 [==============================] - 0s 1ms/step - loss: 0.0908 - accuracy: 0.8698 - precision: 0.5424 - recall: 0.2045 - val_loss: 0.3548 - val_accuracy: 0.1692 - val_precision: 0.1692 - val_recall: 1.0000\n"
     ]
    }
   ],
   "source": [
    "model.compile(loss = 'mse', optimizer = 'adam', metrics = ['accuracy',\n",
    "             keras.metrics.Precision(name = \"precision\", thresholds = 0.5), \n",
    "             keras.metrics.Recall(name = 'recall', thresholds = 0.5)])\n",
    "\n",
    "result = model.fit(scaled_values, train['Churn?_True.'], epochs = 150, batch_size = 50, verbose = 1, \n",
    "                   validation_data = (test.drop(['Churn?_False.', 'Churn?_True.'] , axis = 1), test['Churn?_True.']),\n",
    "                   callbacks = [FitCallback()])\n",
    "#train['Churn?_True.'] is the y_train"
   ]
  },
  {
   "cell_type": "markdown",
   "metadata": {},
   "source": [
    "#### The training precision and recall are 0.53 and 0.20 respectively. The test precision and recall are 0.17 and 1.0."
   ]
  },
  {
   "cell_type": "markdown",
   "metadata": {},
   "source": [
    "#### Problem 2b"
   ]
  },
  {
   "cell_type": "code",
   "execution_count": 15,
   "metadata": {},
   "outputs": [
    {
     "data": {
      "text/plain": [
       "<AxesSubplot:>"
      ]
     },
     "execution_count": 15,
     "metadata": {},
     "output_type": "execute_result"
    },
    {
     "data": {
      "image/png": "[encoded data removed]",
      "text/plain": [
       "<Figure size 432x288 with 1 Axes>"
      ]
     },
     "metadata": {
      "needs_background": "light"
     },
     "output_type": "display_data"
    }
   ],
   "source": [
    "pd.DataFrame([x[-1] for x in weights]).plot()"
   ]
  },
  {
   "cell_type": "code",
   "execution_count": 16,
   "metadata": {},
   "outputs": [
    {
     "name": "stdout",
     "output_type": "stream",
     "text": [
      "73/73 [==============================] - 0s 897us/step - loss: 0.0906 - accuracy: 0.8720 - precision: 0.5581 - recall: 0.2300\n"
     ]
    },
    {
     "data": {
      "text/plain": [
       "[0.09062004834413528,\n",
       " 0.8719931244850159,\n",
       " 0.5581395626068115,\n",
       " 0.23003195226192474]"
      ]
     },
     "execution_count": 16,
     "metadata": {},
     "output_type": "execute_result"
    }
   ],
   "source": [
    "model.evaluate(scaled_values, train['Churn?_True.'])"
   ]
  },
  {
   "cell_type": "code",
   "execution_count": 17,
   "metadata": {},
   "outputs": [
    {
     "name": "stdout",
     "output_type": "stream",
     "text": [
      "32/32 [==============================] - 0s 743us/step - loss: 0.3548 - accuracy: 0.1692 - precision: 0.1692 - recall: 1.0000\n"
     ]
    },
    {
     "data": {
      "text/plain": [
       "[0.3547743856906891, 0.16916917264461517, 0.16916917264461517, 1.0]"
      ]
     },
     "execution_count": 17,
     "metadata": {},
     "output_type": "execute_result"
    }
   ],
   "source": [
    "model.evaluate(test.drop(['Churn?_False.', 'Churn?_True.'] , axis = 1), test['Churn?_True.'])"
   ]
  },
  {
   "cell_type": "code",
   "execution_count": 18,
   "metadata": {},
   "outputs": [],
   "source": [
    "import matplotlib.pyplot as plt\n",
    "\n",
    "train_error = []\n",
    "test_error = []\n",
    "for i in range(len(result.history['accuracy'])):\n",
    "    train_error.append(1-result.history['accuracy'][i]) \n",
    "    test_error.append(1-result.history['val_accuracy'][i]) "
   ]
  },
  {
   "cell_type": "code",
   "execution_count": 19,
   "metadata": {},
   "outputs": [
    {
     "data": {
      "text/plain": [
       "<matplotlib.legend.Legend at 0x261563fa640>"
      ]
     },
     "execution_count": 19,
     "metadata": {},
     "output_type": "execute_result"
    },
    {
     "data": {
      "image/png": "[encoded data removed]",
      "text/plain": [
       "<Figure size 432x288 with 1 Axes>"
      ]
     },
     "metadata": {
      "needs_background": "light"
     },
     "output_type": "display_data"
    }
   ],
   "source": [
    "plt.plot(train_error)\n",
    "plt.plot(test_error)\n",
    "plt.xlabel('number of epoch')\n",
    "plt.ylabel('Error')\n",
    "plt.legend(['train error', 'test error'])"
   ]
  },
  {
   "cell_type": "markdown",
   "metadata": {},
   "source": [
    "#### Problem 3"
   ]
  },
  {
   "cell_type": "code",
   "execution_count": 20,
   "metadata": {},
   "outputs": [],
   "source": [
    "train = encoding                             #training set is set to the whole dataset\n",
    "scaled_values = minmax.fit_transform(train.drop(['Churn?_False.', 'Churn?_True.'] , axis = 1))\n"
   ]
  },
  {
   "cell_type": "code",
   "execution_count": 21,
   "metadata": {},
   "outputs": [],
   "source": [
    "model = keras.Sequential()\n",
    "model.add(layers.Dense(4, input_dim = scaled_values.shape[1], activation = 'sigmoid' ))     #number of nodes = 4\n",
    "model.add(layers.Dense(4, activation = 'sigmoid' ))\n",
    "model.add(layers.Dense(1, activation = 'sigmoid' ))                    #output only has 1 node since it is binary classfication\n"
   ]
  },
  {
   "cell_type": "code",
   "execution_count": 22,
   "metadata": {},
   "outputs": [
    {
     "name": "stdout",
     "output_type": "stream",
     "text": [
      "Epoch 1/150\n",
      "67/67 [==============================] - 0s 1ms/step - loss: 0.3109 - accuracy: 0.1449 - precision: 0.1449 - recall: 1.0000\n",
      "Epoch 2/150\n",
      "67/67 [==============================] - 0s 1ms/step - loss: 0.2527 - accuracy: 0.4725 - precision: 0.1430 - recall: 0.5290\n",
      "Epoch 3/150\n",
      "67/67 [==============================] - 0s 1ms/step - loss: 0.2111 - accuracy: 0.8551 - precision: 0.0000e+00 - recall: 0.0000e+00\n",
      "Epoch 4/150\n",
      "67/67 [==============================] - 0s 1ms/step - loss: 0.1832 - accuracy: 0.8551 - precision: 0.0000e+00 - recall: 0.0000e+00\n",
      "Epoch 5/150\n",
      "67/67 [==============================] - 0s 1ms/step - loss: 0.1648 - accuracy: 0.8551 - precision: 0.0000e+00 - recall: 0.0000e+00\n",
      "Epoch 6/150\n",
      "67/67 [==============================] - 0s 1ms/step - loss: 0.1530 - accuracy: 0.8551 - precision: 0.0000e+00 - recall: 0.0000e+00\n",
      "Epoch 7/150\n",
      "67/67 [==============================] - 0s 1ms/step - loss: 0.1452 - accuracy: 0.8551 - precision: 0.0000e+00 - recall: 0.0000e+00\n",
      "Epoch 8/150\n",
      "67/67 [==============================] - 0s 1ms/step - loss: 0.1399 - accuracy: 0.8551 - precision: 0.0000e+00 - recall: 0.0000e+00\n",
      "Epoch 9/150\n",
      "67/67 [==============================] - 0s 1ms/step - loss: 0.1360 - accuracy: 0.8551 - precision: 0.0000e+00 - recall: 0.0000e+00\n",
      "Epoch 10/150\n",
      "67/67 [==============================] - 0s 1ms/step - loss: 0.1333 - accuracy: 0.8551 - precision: 0.0000e+00 - recall: 0.0000e+00\n",
      "Epoch 11/150\n",
      "67/67 [==============================] - 0s 1ms/step - loss: 0.1312 - accuracy: 0.8551 - precision: 0.0000e+00 - recall: 0.0000e+00\n",
      "Epoch 12/150\n",
      "67/67 [==============================] - 0s 1ms/step - loss: 0.1296 - accuracy: 0.8551 - precision: 0.0000e+00 - recall: 0.0000e+00\n",
      "Epoch 13/150\n",
      "67/67 [==============================] - 0s 1ms/step - loss: 0.1284 - accuracy: 0.8551 - precision: 0.0000e+00 - recall: 0.0000e+00\n",
      "Epoch 14/150\n",
      "67/67 [==============================] - 0s 1ms/step - loss: 0.1274 - accuracy: 0.8551 - precision: 0.0000e+00 - recall: 0.0000e+00\n",
      "Epoch 15/150\n",
      "67/67 [==============================] - 0s 1ms/step - loss: 0.1267 - accuracy: 0.8551 - precision: 0.0000e+00 - recall: 0.0000e+00\n",
      "Epoch 16/150\n",
      "67/67 [==============================] - 0s 1ms/step - loss: 0.1261 - accuracy: 0.8551 - precision: 0.0000e+00 - recall: 0.0000e+00\n",
      "Epoch 17/150\n",
      "67/67 [==============================] - 0s 1ms/step - loss: 0.1256 - accuracy: 0.8551 - precision: 0.0000e+00 - recall: 0.0000e+00\n",
      "Epoch 18/150\n",
      "67/67 [==============================] - 0s 1ms/step - loss: 0.1253 - accuracy: 0.8551 - precision: 0.0000e+00 - recall: 0.0000e+00\n",
      "Epoch 19/150\n",
      "67/67 [==============================] - 0s 1ms/step - loss: 0.1250 - accuracy: 0.8551 - precision: 0.0000e+00 - recall: 0.0000e+00\n",
      "Epoch 20/150\n",
      "67/67 [==============================] - 0s 1ms/step - loss: 0.1247 - accuracy: 0.8551 - precision: 0.0000e+00 - recall: 0.0000e+00\n",
      "Epoch 21/150\n",
      "67/67 [==============================] - 0s 1ms/step - loss: 0.1246 - accuracy: 0.8551 - precision: 0.0000e+00 - recall: 0.0000e+00\n",
      "Epoch 22/150\n",
      "67/67 [==============================] - 0s 1ms/step - loss: 0.1244 - accuracy: 0.8551 - precision: 0.0000e+00 - recall: 0.0000e+00\n",
      "Epoch 23/150\n",
      "67/67 [==============================] - 0s 1ms/step - loss: 0.1243 - accuracy: 0.8551 - precision: 0.0000e+00 - recall: 0.0000e+00\n",
      "Epoch 24/150\n",
      "67/67 [==============================] - 0s 1ms/step - loss: 0.1242 - accuracy: 0.8551 - precision: 0.0000e+00 - recall: 0.0000e+00\n",
      "Epoch 25/150\n",
      "67/67 [==============================] - 0s 1ms/step - loss: 0.1241 - accuracy: 0.8551 - precision: 0.0000e+00 - recall: 0.0000e+00\n",
      "Epoch 26/150\n",
      "67/67 [==============================] - 0s 1ms/step - loss: 0.1240 - accuracy: 0.8551 - precision: 0.0000e+00 - recall: 0.0000e+00\n",
      "Epoch 27/150\n",
      "67/67 [==============================] - 0s 1ms/step - loss: 0.1239 - accuracy: 0.8551 - precision: 0.0000e+00 - recall: 0.0000e+00\n",
      "Epoch 28/150\n",
      "67/67 [==============================] - 0s 1ms/step - loss: 0.1239 - accuracy: 0.8551 - precision: 0.0000e+00 - recall: 0.0000e+00\n",
      "Epoch 29/150\n",
      "67/67 [==============================] - 0s 1ms/step - loss: 0.1238 - accuracy: 0.8551 - precision: 0.0000e+00 - recall: 0.0000e+00\n",
      "Epoch 30/150\n",
      "67/67 [==============================] - 0s 1ms/step - loss: 0.1238 - accuracy: 0.8551 - precision: 0.0000e+00 - recall: 0.0000e+00\n",
      "Epoch 31/150\n",
      "67/67 [==============================] - 0s 1ms/step - loss: 0.1237 - accuracy: 0.8551 - precision: 0.0000e+00 - recall: 0.0000e+00\n",
      "Epoch 32/150\n",
      "67/67 [==============================] - 0s 1ms/step - loss: 0.1237 - accuracy: 0.8551 - precision: 0.0000e+00 - recall: 0.0000e+00\n",
      "Epoch 33/150\n",
      "67/67 [==============================] - 0s 1ms/step - loss: 0.1236 - accuracy: 0.8551 - precision: 0.0000e+00 - recall: 0.0000e+00\n",
      "Epoch 34/150\n",
      "67/67 [==============================] - 0s 1ms/step - loss: 0.1235 - accuracy: 0.8551 - precision: 0.0000e+00 - recall: 0.0000e+00\n",
      "Epoch 35/150\n",
      "67/67 [==============================] - 0s 1ms/step - loss: 0.1235 - accuracy: 0.8551 - precision: 0.0000e+00 - recall: 0.0000e+00\n",
      "Epoch 36/150\n",
      "67/67 [==============================] - 0s 1ms/step - loss: 0.1234 - accuracy: 0.8551 - precision: 0.0000e+00 - recall: 0.0000e+00\n",
      "Epoch 37/150\n",
      "67/67 [==============================] - 0s 1ms/step - loss: 0.1234 - accuracy: 0.8551 - precision: 0.0000e+00 - recall: 0.0000e+00\n",
      "Epoch 38/150\n",
      "67/67 [==============================] - 0s 1ms/step - loss: 0.1232 - accuracy: 0.8551 - precision: 0.0000e+00 - recall: 0.0000e+00\n",
      "Epoch 39/150\n",
      "67/67 [==============================] - 0s 1ms/step - loss: 0.1231 - accuracy: 0.8551 - precision: 0.0000e+00 - recall: 0.0000e+00\n",
      "Epoch 40/150\n",
      "67/67 [==============================] - 0s 1ms/step - loss: 0.1228 - accuracy: 0.8551 - precision: 0.0000e+00 - recall: 0.0000e+00\n",
      "Epoch 41/150\n",
      "67/67 [==============================] - 0s 1ms/step - loss: 0.1225 - accuracy: 0.8551 - precision: 0.0000e+00 - recall: 0.0000e+00\n",
      "Epoch 42/150\n",
      "67/67 [==============================] - 0s 1ms/step - loss: 0.1219 - accuracy: 0.8551 - precision: 0.0000e+00 - recall: 0.0000e+00\n",
      "Epoch 43/150\n",
      "67/67 [==============================] - 0s 1ms/step - loss: 0.1212 - accuracy: 0.8551 - precision: 0.0000e+00 - recall: 0.0000e+00\n",
      "Epoch 44/150\n",
      "67/67 [==============================] - 0s 1ms/step - loss: 0.1206 - accuracy: 0.8551 - precision: 0.0000e+00 - recall: 0.0000e+00\n",
      "Epoch 45/150\n",
      "67/67 [==============================] - 0s 1ms/step - loss: 0.1201 - accuracy: 0.8551 - precision: 0.0000e+00 - recall: 0.0000e+00\n",
      "Epoch 46/150\n",
      "67/67 [==============================] - 0s 1ms/step - loss: 0.1197 - accuracy: 0.8551 - precision: 0.0000e+00 - recall: 0.0000e+00\n",
      "Epoch 47/150\n",
      "67/67 [==============================] - 0s 1ms/step - loss: 0.1193 - accuracy: 0.8551 - precision: 0.0000e+00 - recall: 0.0000e+00\n",
      "Epoch 48/150\n",
      "67/67 [==============================] - 0s 1ms/step - loss: 0.1188 - accuracy: 0.8551 - precision: 0.0000e+00 - recall: 0.0000e+00\n",
      "Epoch 49/150\n",
      "67/67 [==============================] - 0s 1ms/step - loss: 0.1184 - accuracy: 0.8551 - precision: 0.0000e+00 - recall: 0.0000e+00\n",
      "Epoch 50/150\n",
      "67/67 [==============================] - 0s 1ms/step - loss: 0.1179 - accuracy: 0.8551 - precision: 0.0000e+00 - recall: 0.0000e+00\n",
      "Epoch 51/150\n",
      "67/67 [==============================] - 0s 1ms/step - loss: 0.1173 - accuracy: 0.8551 - precision: 0.0000e+00 - recall: 0.0000e+00\n",
      "Epoch 52/150\n",
      "67/67 [==============================] - 0s 1ms/step - loss: 0.1168 - accuracy: 0.8551 - precision: 0.0000e+00 - recall: 0.0000e+00\n",
      "Epoch 53/150\n",
      "67/67 [==============================] - 0s 1ms/step - loss: 0.1162 - accuracy: 0.8551 - precision: 0.0000e+00 - recall: 0.0000e+00\n",
      "Epoch 54/150\n",
      "67/67 [==============================] - 0s 1ms/step - loss: 0.1156 - accuracy: 0.8551 - precision: 0.0000e+00 - recall: 0.0000e+00\n",
      "Epoch 55/150\n",
      "67/67 [==============================] - 0s 1ms/step - loss: 0.1150 - accuracy: 0.8551 - precision: 0.0000e+00 - recall: 0.0000e+00\n",
      "Epoch 56/150\n",
      "67/67 [==============================] - 0s 1ms/step - loss: 0.1143 - accuracy: 0.8551 - precision: 0.0000e+00 - recall: 0.0000e+00\n",
      "Epoch 57/150\n"
     ]
    },
    {
     "name": "stdout",
     "output_type": "stream",
     "text": [
      "67/67 [==============================] - 0s 1ms/step - loss: 0.1137 - accuracy: 0.8551 - precision: 0.0000e+00 - recall: 0.0000e+00\n",
      "Epoch 58/150\n",
      "67/67 [==============================] - 0s 1ms/step - loss: 0.1130 - accuracy: 0.8551 - precision: 0.0000e+00 - recall: 0.0000e+00\n",
      "Epoch 59/150\n",
      "67/67 [==============================] - 0s 1ms/step - loss: 0.1123 - accuracy: 0.8551 - precision: 0.0000e+00 - recall: 0.0000e+00\n",
      "Epoch 60/150\n",
      "67/67 [==============================] - 0s 1ms/step - loss: 0.1116 - accuracy: 0.8551 - precision: 0.0000e+00 - recall: 0.0000e+00\n",
      "Epoch 61/150\n",
      "67/67 [==============================] - 0s 1ms/step - loss: 0.1110 - accuracy: 0.8551 - precision: 0.0000e+00 - recall: 0.0000e+00\n",
      "Epoch 62/150\n",
      "67/67 [==============================] - 0s 1ms/step - loss: 0.1103 - accuracy: 0.8551 - precision: 0.0000e+00 - recall: 0.0000e+00\n",
      "Epoch 63/150\n",
      "67/67 [==============================] - 0s 1ms/step - loss: 0.1097 - accuracy: 0.8551 - precision: 0.0000e+00 - recall: 0.0000e+00\n",
      "Epoch 64/150\n",
      "67/67 [==============================] - 0s 1ms/step - loss: 0.1091 - accuracy: 0.8551 - precision: 0.0000e+00 - recall: 0.0000e+00\n",
      "Epoch 65/150\n",
      "67/67 [==============================] - 0s 1ms/step - loss: 0.1085 - accuracy: 0.8551 - precision: 0.0000e+00 - recall: 0.0000e+00\n",
      "Epoch 66/150\n",
      "67/67 [==============================] - 0s 1ms/step - loss: 0.1081 - accuracy: 0.8551 - precision: 0.0000e+00 - recall: 0.0000e+00\n",
      "Epoch 67/150\n",
      "67/67 [==============================] - 0s 1ms/step - loss: 0.1075 - accuracy: 0.8551 - precision: 0.0000e+00 - recall: 0.0000e+00\n",
      "Epoch 68/150\n",
      "67/67 [==============================] - 0s 1ms/step - loss: 0.1070 - accuracy: 0.8551 - precision: 0.0000e+00 - recall: 0.0000e+00\n",
      "Epoch 69/150\n",
      "67/67 [==============================] - 0s 1ms/step - loss: 0.1066 - accuracy: 0.8551 - precision: 0.0000e+00 - recall: 0.0000e+00\n",
      "Epoch 70/150\n",
      "67/67 [==============================] - 0s 1ms/step - loss: 0.1061 - accuracy: 0.8551 - precision: 0.0000e+00 - recall: 0.0000e+00\n",
      "Epoch 71/150\n",
      "67/67 [==============================] - 0s 1ms/step - loss: 0.1056 - accuracy: 0.8551 - precision: 0.0000e+00 - recall: 0.0000e+00\n",
      "Epoch 72/150\n",
      "67/67 [==============================] - 0s 1ms/step - loss: 0.1053 - accuracy: 0.8551 - precision: 0.0000e+00 - recall: 0.0000e+00\n",
      "Epoch 73/150\n",
      "67/67 [==============================] - 0s 1ms/step - loss: 0.1049 - accuracy: 0.8551 - precision: 0.0000e+00 - recall: 0.0000e+00\n",
      "Epoch 74/150\n",
      "67/67 [==============================] - 0s 1ms/step - loss: 0.1046 - accuracy: 0.8551 - precision: 0.0000e+00 - recall: 0.0000e+00\n",
      "Epoch 75/150\n",
      "67/67 [==============================] - 0s 1ms/step - loss: 0.1042 - accuracy: 0.8551 - precision: 0.0000e+00 - recall: 0.0000e+00\n",
      "Epoch 76/150\n",
      "67/67 [==============================] - 0s 1ms/step - loss: 0.1039 - accuracy: 0.8551 - precision: 0.0000e+00 - recall: 0.0000e+00\n",
      "Epoch 77/150\n",
      "67/67 [==============================] - 0s 1ms/step - loss: 0.1036 - accuracy: 0.8551 - precision: 0.0000e+00 - recall: 0.0000e+00\n",
      "Epoch 78/150\n",
      "67/67 [==============================] - 0s 1ms/step - loss: 0.1033 - accuracy: 0.8551 - precision: 0.0000e+00 - recall: 0.0000e+00\n",
      "Epoch 79/150\n",
      "67/67 [==============================] - 0s 1ms/step - loss: 0.1031 - accuracy: 0.8560 - precision: 0.8000 - recall: 0.0083   \n",
      "Epoch 80/150\n",
      "67/67 [==============================] - 0s 1ms/step - loss: 0.1028 - accuracy: 0.8578 - precision: 0.8462 - recall: 0.0228   \n",
      "Epoch 81/150\n",
      "67/67 [==============================] - 0s 1ms/step - loss: 0.1025 - accuracy: 0.8599 - precision: 0.7000 - recall: 0.0581   \n",
      "Epoch 82/150\n",
      "67/67 [==============================] - 0s 999us/step - loss: 0.1023 - accuracy: 0.8608 - precision: 0.7021 - recall: 0.0685\n",
      "Epoch 83/150\n",
      "67/67 [==============================] - 0s 1ms/step - loss: 0.1021 - accuracy: 0.8596 - precision: 0.5789 - recall: 0.1141\n",
      "Epoch 84/150\n",
      "67/67 [==============================] - 0s 1ms/step - loss: 0.1019 - accuracy: 0.8623 - precision: 0.6500 - recall: 0.1079   \n",
      "Epoch 85/150\n",
      "67/67 [==============================] - 0s 1ms/step - loss: 0.1017 - accuracy: 0.8617 - precision: 0.6000 - recall: 0.1369   \n",
      "Epoch 86/150\n",
      "67/67 [==============================] - 0s 1ms/step - loss: 0.1015 - accuracy: 0.8596 - precision: 0.5564 - recall: 0.1535\n",
      "Epoch 87/150\n",
      "67/67 [==============================] - 0s 1ms/step - loss: 0.1013 - accuracy: 0.8599 - precision: 0.5588 - recall: 0.1577   \n",
      "Epoch 88/150\n",
      "67/67 [==============================] - 0s 1ms/step - loss: 0.1011 - accuracy: 0.8590 - precision: 0.5474 - recall: 0.1556\n",
      "Epoch 89/150\n",
      "67/67 [==============================] - 0s 1ms/step - loss: 0.1009 - accuracy: 0.8578 - precision: 0.5290 - recall: 0.1701\n",
      "Epoch 90/150\n",
      "67/67 [==============================] - 0s 1ms/step - loss: 0.1007 - accuracy: 0.8584 - precision: 0.5350 - recall: 0.1743\n",
      "Epoch 91/150\n",
      "67/67 [==============================] - 0s 1ms/step - loss: 0.1005 - accuracy: 0.8581 - precision: 0.5298 - recall: 0.1846\n",
      "Epoch 92/150\n",
      "67/67 [==============================] - 0s 1ms/step - loss: 0.1004 - accuracy: 0.8590 - precision: 0.5394 - recall: 0.1846\n",
      "Epoch 93/150\n",
      "67/67 [==============================] - 0s 971us/step - loss: 0.1002 - accuracy: 0.8581 - precision: 0.5291 - recall: 0.1888\n",
      "Epoch 94/150\n",
      "67/67 [==============================] - 0s 1ms/step - loss: 0.1001 - accuracy: 0.8584 - precision: 0.5322 - recall: 0.1888\n",
      "Epoch 95/150\n",
      "67/67 [==============================] - 0s 1ms/step - loss: 0.1000 - accuracy: 0.8581 - precision: 0.5287 - recall: 0.1909   \n",
      "Epoch 96/150\n",
      "67/67 [==============================] - 0s 1ms/step - loss: 0.0998 - accuracy: 0.8551 - precision: 0.5000 - recall: 0.1846\n",
      "Epoch 97/150\n",
      "67/67 [==============================] - 0s 1ms/step - loss: 0.0997 - accuracy: 0.8584 - precision: 0.5318 - recall: 0.1909   \n",
      "Epoch 98/150\n",
      "67/67 [==============================] - 0s 1ms/step - loss: 0.0996 - accuracy: 0.8575 - precision: 0.5227 - recall: 0.1909\n",
      "Epoch 99/150\n",
      "67/67 [==============================] - 0s 1ms/step - loss: 0.0994 - accuracy: 0.8587 - precision: 0.5361 - recall: 0.1846\n",
      "Epoch 100/150\n",
      "67/67 [==============================] - 0s 1ms/step - loss: 0.0992 - accuracy: 0.8593 - precision: 0.5402 - recall: 0.1950\n",
      "Epoch 101/150\n",
      "67/67 [==============================] - 0s 1ms/step - loss: 0.0991 - accuracy: 0.8569 - precision: 0.5161 - recall: 0.1992\n",
      "Epoch 102/150\n",
      "67/67 [==============================] - 0s 1ms/step - loss: 0.0990 - accuracy: 0.8572 - precision: 0.5183 - recall: 0.2054\n",
      "Epoch 103/150\n",
      "67/67 [==============================] - 0s 1ms/step - loss: 0.0988 - accuracy: 0.8572 - precision: 0.5187 - recall: 0.2012\n",
      "Epoch 104/150\n",
      "67/67 [==============================] - 0s 1ms/step - loss: 0.0987 - accuracy: 0.8575 - precision: 0.5215 - recall: 0.2012\n",
      "Epoch 105/150\n",
      "67/67 [==============================] - 0s 1ms/step - loss: 0.0986 - accuracy: 0.8563 - precision: 0.5105 - recall: 0.2012   \n",
      "Epoch 106/150\n",
      "67/67 [==============================] - 0s 1ms/step - loss: 0.0985 - accuracy: 0.8578 - precision: 0.5241 - recall: 0.2033\n",
      "Epoch 107/150\n",
      "67/67 [==============================] - 0s 1ms/step - loss: 0.0984 - accuracy: 0.8578 - precision: 0.5241 - recall: 0.2033   \n",
      "Epoch 108/150\n",
      "67/67 [==============================] - 0s 1ms/step - loss: 0.0982 - accuracy: 0.8578 - precision: 0.5246 - recall: 0.1992\n",
      "Epoch 109/150\n",
      "67/67 [==============================] - 0s 1ms/step - loss: 0.0981 - accuracy: 0.8578 - precision: 0.5243 - recall: 0.2012\n",
      "Epoch 110/150\n",
      "67/67 [==============================] - 0s 1ms/step - loss: 0.0980 - accuracy: 0.8581 - precision: 0.5253 - recall: 0.2158\n",
      "Epoch 111/150\n",
      "67/67 [==============================] - 0s 1ms/step - loss: 0.0979 - accuracy: 0.8581 - precision: 0.5278 - recall: 0.1971\n",
      "Epoch 112/150\n",
      "67/67 [==============================] - 0s 979us/step - loss: 0.0979 - accuracy: 0.8584 - precision: 0.5301 - recall: 0.2012\n",
      "Epoch 113/150\n",
      "67/67 [==============================] - 0s 1ms/step - loss: 0.0977 - accuracy: 0.8593 - precision: 0.5372 - recall: 0.2095\n",
      "Epoch 114/150\n",
      "67/67 [==============================] - 0s 1ms/step - loss: 0.0976 - accuracy: 0.8581 - precision: 0.5263 - recall: 0.2075\n",
      "Epoch 115/150\n"
     ]
    },
    {
     "name": "stdout",
     "output_type": "stream",
     "text": [
      "67/67 [==============================] - 0s 1ms/step - loss: 0.0975 - accuracy: 0.8593 - precision: 0.5385 - recall: 0.2033   \n",
      "Epoch 116/150\n",
      "67/67 [==============================] - 0s 1ms/step - loss: 0.0974 - accuracy: 0.8587 - precision: 0.5306 - recall: 0.2158\n",
      "Epoch 117/150\n",
      "67/67 [==============================] - 0s 1ms/step - loss: 0.0973 - accuracy: 0.8593 - precision: 0.5380 - recall: 0.2054\n",
      "Epoch 118/150\n",
      "67/67 [==============================] - 0s 1ms/step - loss: 0.0972 - accuracy: 0.8584 - precision: 0.5276 - recall: 0.2178\n",
      "Epoch 119/150\n",
      "67/67 [==============================] - 0s 1ms/step - loss: 0.0971 - accuracy: 0.8593 - precision: 0.5385 - recall: 0.2033   \n",
      "Epoch 120/150\n",
      "67/67 [==============================] - 0s 1ms/step - loss: 0.0970 - accuracy: 0.8575 - precision: 0.5206 - recall: 0.2095\n",
      "Epoch 121/150\n",
      "67/67 [==============================] - 0s 1ms/step - loss: 0.0969 - accuracy: 0.8584 - precision: 0.5294 - recall: 0.2054   \n",
      "Epoch 122/150\n",
      "67/67 [==============================] - 0s 1ms/step - loss: 0.0968 - accuracy: 0.8581 - precision: 0.5263 - recall: 0.2075\n",
      "Epoch 123/150\n",
      "67/67 [==============================] - 0s 1ms/step - loss: 0.0968 - accuracy: 0.8593 - precision: 0.5380 - recall: 0.2054\n",
      "Epoch 124/150\n",
      "67/67 [==============================] - 0s 1ms/step - loss: 0.0967 - accuracy: 0.8599 - precision: 0.5404 - recall: 0.2220e+0 - ETA: 0s - loss: 0.0983 - accuracy: 0.8569 - precision: 0.5342 - recall: 0.2245       \n",
      "Epoch 125/150\n",
      "67/67 [==============================] - 0s 1ms/step - loss: 0.0966 - accuracy: 0.8584 - precision: 0.5307 - recall: 0.1971\n",
      "Epoch 126/150\n",
      "67/67 [==============================] - 0s 1ms/step - loss: 0.0964 - accuracy: 0.8590 - precision: 0.5344 - recall: 0.2095   \n",
      "Epoch 127/150\n",
      "67/67 [==============================] - 0s 1ms/step - loss: 0.0963 - accuracy: 0.8596 - precision: 0.5397 - recall: 0.2116   \n",
      "Epoch 128/150\n",
      "67/67 [==============================] - 0s 1ms/step - loss: 0.0962 - accuracy: 0.8587 - precision: 0.5309 - recall: 0.2137   \n",
      "Epoch 129/150\n",
      "67/67 [==============================] - 0s 1ms/step - loss: 0.0962 - accuracy: 0.8587 - precision: 0.5316 - recall: 0.2095\n",
      "Epoch 130/150\n",
      "67/67 [==============================] - 0s 1ms/step - loss: 0.0962 - accuracy: 0.8620 - precision: 0.5572 - recall: 0.2324\n",
      "Epoch 131/150\n",
      "67/67 [==============================] - 0s 1ms/step - loss: 0.0960 - accuracy: 0.8599 - precision: 0.5421 - recall: 0.2137\n",
      "Epoch 132/150\n",
      "67/67 [==============================] - 0s 1ms/step - loss: 0.0959 - accuracy: 0.8617 - precision: 0.5556 - recall: 0.2282   \n",
      "Epoch 133/150\n",
      "67/67 [==============================] - 0s 1ms/step - loss: 0.0958 - accuracy: 0.8620 - precision: 0.5584 - recall: 0.2282   \n",
      "Epoch 134/150\n",
      "67/67 [==============================] - 0s 997us/step - loss: 0.0957 - accuracy: 0.8605 - precision: 0.5479 - recall: 0.2137\n",
      "Epoch 135/150\n",
      "67/67 [==============================] - 0s 1ms/step - loss: 0.0957 - accuracy: 0.8623 - precision: 0.5594 - recall: 0.2344\n",
      "Epoch 136/150\n",
      "67/67 [==============================] - 0s 1ms/step - loss: 0.0956 - accuracy: 0.8629 - precision: 0.5657 - recall: 0.2324\n",
      "Epoch 137/150\n",
      "67/67 [==============================] - 0s 1ms/step - loss: 0.0956 - accuracy: 0.8620 - precision: 0.5578 - recall: 0.2303\n",
      "Epoch 138/150\n",
      "67/67 [==============================] - 0s 1ms/step - loss: 0.0954 - accuracy: 0.8635 - precision: 0.5729 - recall: 0.2282\n",
      "Epoch 139/150\n",
      "67/67 [==============================] - 0s 1ms/step - loss: 0.0953 - accuracy: 0.8662 - precision: 0.5853 - recall: 0.2635\n",
      "Epoch 140/150\n",
      "67/67 [==============================] - 0s 1ms/step - loss: 0.0953 - accuracy: 0.8635 - precision: 0.5745 - recall: 0.2241\n",
      "Epoch 141/150\n",
      "67/67 [==============================] - 0s 999us/step - loss: 0.0952 - accuracy: 0.8638 - precision: 0.5767 - recall: 0.2261\n",
      "Epoch 142/150\n",
      "67/67 [==============================] - 0s 1ms/step - loss: 0.0951 - accuracy: 0.8659 - precision: 0.5891 - recall: 0.2469\n",
      "Epoch 143/150\n",
      "67/67 [==============================] - 0s 1ms/step - loss: 0.0951 - accuracy: 0.8647 - precision: 0.5762 - recall: 0.2510\n",
      "Epoch 144/150\n",
      "67/67 [==============================] - 0s 1ms/step - loss: 0.0949 - accuracy: 0.8662 - precision: 0.5894 - recall: 0.2531   \n",
      "Epoch 145/150\n",
      "67/67 [==============================] - 0s 1ms/step - loss: 0.0949 - accuracy: 0.8662 - precision: 0.5885 - recall: 0.2552\n",
      "Epoch 146/150\n",
      "67/67 [==============================] - 0s 1ms/step - loss: 0.0948 - accuracy: 0.8662 - precision: 0.5845 - recall: 0.2656\n",
      "Epoch 147/150\n",
      "67/67 [==============================] - 0s 1ms/step - loss: 0.0947 - accuracy: 0.8653 - precision: 0.5885 - recall: 0.2344\n",
      "Epoch 148/150\n",
      "67/67 [==============================] - 0s 1ms/step - loss: 0.0947 - accuracy: 0.8665 - precision: 0.5872 - recall: 0.2656\n",
      "Epoch 149/150\n",
      "67/67 [==============================] - 0s 1ms/step - loss: 0.0946 - accuracy: 0.8671 - precision: 0.5926 - recall: 0.2656\n",
      "Epoch 150/150\n",
      "67/67 [==============================] - 0s 1ms/step - loss: 0.0945 - accuracy: 0.8674 - precision: 0.5972 - recall: 0.2614\n"
     ]
    }
   ],
   "source": [
    "weights = []      #reset the weights to empty list\n",
    "\n",
    "model.compile(loss = 'mse', optimizer = 'adam', metrics = ['accuracy',\n",
    "             keras.metrics.Precision(name = \"precision\", thresholds = 0.5), \n",
    "             keras.metrics.Recall(name = 'recall', thresholds = 0.5)])\n",
    "\n",
    "result = model.fit(scaled_values, train['Churn?_True.'], epochs = 150, batch_size = 50, verbose = 1, \n",
    "                   callbacks = [FitCallback()])"
   ]
  },
  {
   "cell_type": "markdown",
   "metadata": {},
   "source": [
    "#### The training precision and recall using 150 epoch is approximately 0.59 and 0.27 respectively."
   ]
  },
  {
   "cell_type": "code",
   "execution_count": 23,
   "metadata": {},
   "outputs": [
    {
     "data": {
      "text/plain": [
       "<AxesSubplot:>"
      ]
     },
     "execution_count": 23,
     "metadata": {},
     "output_type": "execute_result"
    },
    {
     "data": {
      "image/png": "[encoded data removed]",
      "text/plain": [
       "<Figure size 432x288 with 1 Axes>"
      ]
     },
     "metadata": {
      "needs_background": "light"
     },
     "output_type": "display_data"
    }
   ],
   "source": [
    "pd.DataFrame([x[-1] for x in weights]).plot()"
   ]
  },
  {
   "cell_type": "code",
   "execution_count": 24,
   "metadata": {},
   "outputs": [
    {
     "data": {
      "text/plain": [
       "[0.8551247417926788,\n",
       " 0.5275022685527802,\n",
       " 0.14487528800964355,\n",
       " 0.14487528800964355,\n",
       " 0.14487528800964355,\n",
       " 0.14487528800964355,\n",
       " 0.14487528800964355,\n",
       " 0.14487528800964355,\n",
       " 0.14487528800964355,\n",
       " 0.14487528800964355,\n",
       " 0.14487528800964355,\n",
       " 0.14487528800964355,\n",
       " 0.14487528800964355,\n",
       " 0.14487528800964355,\n",
       " 0.14487528800964355,\n",
       " 0.14487528800964355,\n",
       " 0.14487528800964355,\n",
       " 0.14487528800964355,\n",
       " 0.14487528800964355,\n",
       " 0.14487528800964355,\n",
       " 0.14487528800964355,\n",
       " 0.14487528800964355,\n",
       " 0.14487528800964355,\n",
       " 0.14487528800964355,\n",
       " 0.14487528800964355,\n",
       " 0.14487528800964355,\n",
       " 0.14487528800964355,\n",
       " 0.14487528800964355,\n",
       " 0.14487528800964355,\n",
       " 0.14487528800964355,\n",
       " 0.14487528800964355,\n",
       " 0.14487528800964355,\n",
       " 0.14487528800964355,\n",
       " 0.14487528800964355,\n",
       " 0.14487528800964355,\n",
       " 0.14487528800964355,\n",
       " 0.14487528800964355,\n",
       " 0.14487528800964355,\n",
       " 0.14487528800964355,\n",
       " 0.14487528800964355,\n",
       " 0.14487528800964355,\n",
       " 0.14487528800964355,\n",
       " 0.14487528800964355,\n",
       " 0.14487528800964355,\n",
       " 0.14487528800964355,\n",
       " 0.14487528800964355,\n",
       " 0.14487528800964355,\n",
       " 0.14487528800964355,\n",
       " 0.14487528800964355,\n",
       " 0.14487528800964355,\n",
       " 0.14487528800964355,\n",
       " 0.14487528800964355,\n",
       " 0.14487528800964355,\n",
       " 0.14487528800964355,\n",
       " 0.14487528800964355,\n",
       " 0.14487528800964355,\n",
       " 0.14487528800964355,\n",
       " 0.14487528800964355,\n",
       " 0.14487528800964355,\n",
       " 0.14487528800964355,\n",
       " 0.14487528800964355,\n",
       " 0.14487528800964355,\n",
       " 0.14487528800964355,\n",
       " 0.14487528800964355,\n",
       " 0.14487528800964355,\n",
       " 0.14487528800964355,\n",
       " 0.14487528800964355,\n",
       " 0.14487528800964355,\n",
       " 0.14487528800964355,\n",
       " 0.14487528800964355,\n",
       " 0.14487528800964355,\n",
       " 0.14487528800964355,\n",
       " 0.14487528800964355,\n",
       " 0.14487528800964355,\n",
       " 0.14487528800964355,\n",
       " 0.14487528800964355,\n",
       " 0.14487528800964355,\n",
       " 0.14487528800964355,\n",
       " 0.14397352933883667,\n",
       " 0.14217013120651245,\n",
       " 0.14006614685058594,\n",
       " 0.13916438817977905,\n",
       " 0.14036667346954346,\n",
       " 0.13766157627105713,\n",
       " 0.13826268911361694,\n",
       " 0.14036667346954346,\n",
       " 0.14006614685058594,\n",
       " 0.14096784591674805,\n",
       " 0.14217013120651245,\n",
       " 0.14156895875930786,\n",
       " 0.14186954498291016,\n",
       " 0.14096784591674805,\n",
       " 0.14186954498291016,\n",
       " 0.14156895875930786,\n",
       " 0.14186954498291016,\n",
       " 0.14487528800964355,\n",
       " 0.14156895875930786,\n",
       " 0.14247071743011475,\n",
       " 0.14126843214035034,\n",
       " 0.14066725969314575,\n",
       " 0.14307183027267456,\n",
       " 0.14277124404907227,\n",
       " 0.14277124404907227,\n",
       " 0.14247071743011475,\n",
       " 0.14367300271987915,\n",
       " 0.14217013120651245,\n",
       " 0.14217013120651245,\n",
       " 0.14217013120651245,\n",
       " 0.14217013120651245,\n",
       " 0.14186954498291016,\n",
       " 0.14186954498291016,\n",
       " 0.14156895875930786,\n",
       " 0.14066725969314575,\n",
       " 0.14186954498291016,\n",
       " 0.14066725969314575,\n",
       " 0.14126843214035034,\n",
       " 0.14066725969314575,\n",
       " 0.14156895875930786,\n",
       " 0.14066725969314575,\n",
       " 0.14247071743011475,\n",
       " 0.14156895875930786,\n",
       " 0.14186954498291016,\n",
       " 0.14066725969314575,\n",
       " 0.14006614685058594,\n",
       " 0.14156895875930786,\n",
       " 0.14096784591674805,\n",
       " 0.14036667346954346,\n",
       " 0.14126843214035034,\n",
       " 0.14126843214035034,\n",
       " 0.13796210289001465,\n",
       " 0.14006614685058594,\n",
       " 0.13826268911361694,\n",
       " 0.13796210289001465,\n",
       " 0.13946497440338135,\n",
       " 0.13766157627105713,\n",
       " 0.13706040382385254,\n",
       " 0.13796210289001465,\n",
       " 0.13645929098129272,\n",
       " 0.13375413417816162,\n",
       " 0.13645929098129272,\n",
       " 0.13615870475769043,\n",
       " 0.13405472040176392,\n",
       " 0.13525700569152832,\n",
       " 0.13375413417816162,\n",
       " 0.13375413417816162,\n",
       " 0.13375413417816162,\n",
       " 0.13465583324432373,\n",
       " 0.13345354795455933,\n",
       " 0.1328524351119995,\n",
       " 0.13255184888839722]"
      ]
     },
     "execution_count": 24,
     "metadata": {},
     "output_type": "execute_result"
    }
   ],
   "source": [
    "train_error = []\n",
    "\n",
    "for i in range(len(result.history['accuracy'])):\n",
    "    train_error.append(1-result.history['accuracy'][i])\n",
    "\n",
    "train_error"
   ]
  },
  {
   "cell_type": "markdown",
   "metadata": {},
   "source": [
    "#### The training error using the whole dataset as training set is approximately 0.13 or 13%."
   ]
  },
  {
   "cell_type": "code",
   "execution_count": null,
   "metadata": {},
   "outputs": [],
   "source": []
  }
 ],
 "metadata": {
  "kernelspec": {
   "display_name": "Python 3",
   "language": "python",
   "name": "python3"
  },
  "language_info": {
   "codemirror_mode": {
    "name": "ipython",
    "version": 3
   },
   "file_extension": ".py",
   "mimetype": "text/x-python",
   "name": "python",
   "nbconvert_exporter": "python",
   "pygments_lexer": "ipython3",
   "version": "3.8.8"
  }
 },
 "nbformat": 4,
 "nbformat_minor": 4
}
