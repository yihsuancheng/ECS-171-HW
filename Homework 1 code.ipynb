{
 "cells": [
  {
   "cell_type": "markdown",
   "metadata": {},
   "source": [
    "# Homework 1\n",
    "## Problem 1"
   ]
  },
  {
   "cell_type": "code",
   "execution_count": 1,
   "metadata": {},
   "outputs": [
    {
     "data": {
      "text/html": [
       "<div>\n",
       "<style scoped>\n",
       "    .dataframe tbody tr th:only-of-type {\n",
       "        vertical-align: middle;\n",
       "    }\n",
       "\n",
       "    .dataframe tbody tr th {\n",
       "        vertical-align: top;\n",
       "    }\n",
       "\n",
       "    .dataframe thead th {\n",
       "        text-align: right;\n",
       "    }\n",
       "</style>\n",
       "<table border=\"1\" class=\"dataframe\">\n",
       "  <thead>\n",
       "    <tr style=\"text-align: right;\">\n",
       "      <th></th>\n",
       "      <th>mpg</th>\n",
       "      <th>cylinders</th>\n",
       "      <th>displacement</th>\n",
       "      <th>horsepower</th>\n",
       "      <th>weight</th>\n",
       "      <th>acceleration</th>\n",
       "      <th>model_year</th>\n",
       "      <th>origin</th>\n",
       "      <th>car_name</th>\n",
       "    </tr>\n",
       "  </thead>\n",
       "  <tbody>\n",
       "    <tr>\n",
       "      <th>0</th>\n",
       "      <td>18.0</td>\n",
       "      <td>8</td>\n",
       "      <td>307.0</td>\n",
       "      <td>130.0</td>\n",
       "      <td>3504.0</td>\n",
       "      <td>12.0</td>\n",
       "      <td>70</td>\n",
       "      <td>1</td>\n",
       "      <td>chevrolet chevelle malibu</td>\n",
       "    </tr>\n",
       "    <tr>\n",
       "      <th>1</th>\n",
       "      <td>15.0</td>\n",
       "      <td>8</td>\n",
       "      <td>350.0</td>\n",
       "      <td>165.0</td>\n",
       "      <td>3693.0</td>\n",
       "      <td>11.5</td>\n",
       "      <td>70</td>\n",
       "      <td>1</td>\n",
       "      <td>buick skylark 320</td>\n",
       "    </tr>\n",
       "    <tr>\n",
       "      <th>2</th>\n",
       "      <td>18.0</td>\n",
       "      <td>8</td>\n",
       "      <td>318.0</td>\n",
       "      <td>150.0</td>\n",
       "      <td>3436.0</td>\n",
       "      <td>11.0</td>\n",
       "      <td>70</td>\n",
       "      <td>1</td>\n",
       "      <td>plymouth satellite</td>\n",
       "    </tr>\n",
       "    <tr>\n",
       "      <th>3</th>\n",
       "      <td>16.0</td>\n",
       "      <td>8</td>\n",
       "      <td>304.0</td>\n",
       "      <td>150.0</td>\n",
       "      <td>3433.0</td>\n",
       "      <td>12.0</td>\n",
       "      <td>70</td>\n",
       "      <td>1</td>\n",
       "      <td>amc rebel sst</td>\n",
       "    </tr>\n",
       "    <tr>\n",
       "      <th>4</th>\n",
       "      <td>17.0</td>\n",
       "      <td>8</td>\n",
       "      <td>302.0</td>\n",
       "      <td>140.0</td>\n",
       "      <td>3449.0</td>\n",
       "      <td>10.5</td>\n",
       "      <td>70</td>\n",
       "      <td>1</td>\n",
       "      <td>ford torino</td>\n",
       "    </tr>\n",
       "  </tbody>\n",
       "</table>\n",
       "</div>"
      ],
      "text/plain": [
       "    mpg  cylinders  displacement horsepower  weight  acceleration  model_year  \\\n",
       "0  18.0          8         307.0      130.0  3504.0          12.0          70   \n",
       "1  15.0          8         350.0      165.0  3693.0          11.5          70   \n",
       "2  18.0          8         318.0      150.0  3436.0          11.0          70   \n",
       "3  16.0          8         304.0      150.0  3433.0          12.0          70   \n",
       "4  17.0          8         302.0      140.0  3449.0          10.5          70   \n",
       "\n",
       "   origin                   car_name  \n",
       "0       1  chevrolet chevelle malibu  \n",
       "1       1          buick skylark 320  \n",
       "2       1         plymouth satellite  \n",
       "3       1              amc rebel sst  \n",
       "4       1                ford torino  "
      ]
     },
     "execution_count": 1,
     "metadata": {},
     "output_type": "execute_result"
    }
   ],
   "source": [
    "import pandas as pd\n",
    "\n",
    "df = pd.read_csv(\"datasets/auto-mpg.data\", delim_whitespace=True, names=['mpg','cylinders','displacement','horsepower','weight', 'acceleration', 'model_year', 'origin', 'car_name'])\n",
    "df.head()\n"
   ]
  },
  {
   "cell_type": "code",
   "execution_count": 2,
   "metadata": {},
   "outputs": [],
   "source": [
    "df_original = df.shape\n",
    "#df.replace('?', np.nan, inplace = True) #replace '?' with null \n",
    "\n",
    "#df[df['horsepower'].isnull() == True]                                  #find all rows where the horsepower column has value of null\n",
    "missing_item_index = df[df['horsepower'].values == '?'].index.tolist()   #Store the index of missing item in list\n",
    "missing_rows = df[df['horsepower'].values == '?']                        #find all rows where the horsepower column has value of ?\n",
    "df.drop(labels = missing_item_index, axis = 0, inplace = True)                 #remove all rows where the cell has value ? and make the changes to df\n",
    "\n",
    "\n",
    "\n"
   ]
  },
  {
   "cell_type": "code",
   "execution_count": 3,
   "metadata": {},
   "outputs": [],
   "source": [
    "# Percentage of missing values out of all rows and out of all values.\n",
    "missing_item_percentage_row = missing_rows.shape[0]/df_original[0]*100\n",
    "missing_item_percentage_all_values = missing_rows.shape[0]/(df_original[0]*df_original[1])*100\n"
   ]
  },
  {
   "cell_type": "code",
   "execution_count": 4,
   "metadata": {},
   "outputs": [],
   "source": [
    "make_of_car = []\n",
    "for i in range(df_original[0]):\n",
    "    if i not in missing_item_index:             \n",
    "        make_of_car.append(df.loc[i, 'car_name'].split()[0])       #append the make of car to the list, split creates a list that separates the string based on whitespace\n",
    "df['make of car'] = make_of_car    #add a new column named 'make of car' to the dataframe and set it to the list\n"
   ]
  },
  {
   "cell_type": "code",
   "execution_count": 5,
   "metadata": {},
   "outputs": [
    {
     "data": {
      "text/plain": [
       "<AxesSubplot:xlabel='make of car'>"
      ]
     },
     "execution_count": 5,
     "metadata": {},
     "output_type": "execute_result"
    },
    {
     "data": {
      "image/png": "[encoded data removed]",
      "text/plain": [
       "<Figure size 432x288 with 1 Axes>"
      ]
     },
     "metadata": {
      "needs_background": "light"
     },
     "output_type": "display_data"
    }
   ],
   "source": [
    "df.groupby('make of car').count().reset_index().plot.bar(x = 'make of car', y = 'origin') \n",
    "#bar plot of the make of car with respect to count of make of car"
   ]
  },
  {
   "cell_type": "markdown",
   "metadata": {},
   "source": [
    "## Problem 2"
   ]
  },
  {
   "cell_type": "code",
   "execution_count": 6,
   "metadata": {},
   "outputs": [
    {
     "data": {
      "text/plain": [
       "(3964.3333333333335, 5140.0]                65\n",
       "(2788.666666666667, 3964.3333333333335]    135\n",
       "(1613.0, 2788.666666666667]                191\n",
       "Name: weight bins, dtype: int64"
      ]
     },
     "execution_count": 6,
     "metadata": {},
     "output_type": "execute_result"
    }
   ],
   "source": [
    "df['weight bins'] = pd.cut(x = df['weight'], bins = pd.interval_range(start = 1613, end = 5140, periods = 3))\n",
    "df['weight bins'].value_counts().sort_index(ascending = False)  \n",
    "\n",
    "#interval range returns a list with the equal ranges of weight\n",
    "#pd.interval range returns [1613, 2788.667, 3964.334, 5140]\n",
    "#The thresholds are 1613, 2788.667, 3964.334, 5140\n",
    "#learned from a site https://kanoki.org/2020/04/20/how-to-create-bins-in-pandas-using-cut-and-qcut/\n",
    "#cut divides the weight column into ranges of weight with 3 equally sized bins\n"
   ]
  },
  {
   "cell_type": "code",
   "execution_count": 7,
   "metadata": {},
   "outputs": [
    {
     "data": {
      "text/plain": [
       "<AxesSubplot:xlabel='Weight Categories'>"
      ]
     },
     "execution_count": 7,
     "metadata": {},
     "output_type": "execute_result"
    },
    {
     "data": {
      "image/png": "[encoded data removed]",
      "text/plain": [
       "<Figure size 432x288 with 1 Axes>"
      ]
     },
     "metadata": {
      "needs_background": "light"
     },
     "output_type": "display_data"
    }
   ],
   "source": [
    "df['Weight Categories'] = pd.cut(x = df['weight'], bins = [1613, 2788.667, 3964.334, 5140], labels = ['light', 'medium', 'heavy'])\n",
    "df.groupby('Weight Categories').count().reset_index().plot.bar(x = 'Weight Categories', y = 'origin') "
   ]
  },
  {
   "cell_type": "code",
   "execution_count": 8,
   "metadata": {},
   "outputs": [],
   "source": [
    "df.drop(['Weight Categories'], axis = 1, inplace = True)\n",
    "df.drop(['make of car'], axis = 1, inplace = True)\n",
    "df.drop(['weight bins'], axis = 1, inplace = True)\n",
    "\n",
    "#drop all columns modified to the dataframe\n"
   ]
  },
  {
   "cell_type": "markdown",
   "metadata": {},
   "source": [
    "## Problem 3 "
   ]
  },
  {
   "cell_type": "code",
   "execution_count": 9,
   "metadata": {},
   "outputs": [
    {
     "data": {
      "text/plain": [
       "<AxesSubplot:>"
      ]
     },
     "execution_count": 9,
     "metadata": {},
     "output_type": "execute_result"
    },
    {
     "data": {
      "image/png": "[encoded data removed]",
      "text/plain": [
       "<Figure size 432x288 with 2 Axes>"
      ]
     },
     "metadata": {
      "needs_background": "light"
     },
     "output_type": "display_data"
    }
   ],
   "source": [
    "import seaborn as sns\n",
    "sns.heatmap(df.corr(), annot = True, vmin = -1, vmax = 1, center = 0, square = True)\n",
    "\n",
    "#displacement has a strong correlation with cylinders.This is because engine displacement is found by using cylinders as a parameter\n",
    "#weight is also strongly correlated to cylinders and therefore displacement\n",
    "#mpg is negatively coreelated with cylinders, displacement, weight while strongly correlated with acceleration, model-year, and origin\n",
    "#the fact that mpg is positively correlated with acceleration matches my expectation because as the acceleration increases miles traveled per gallon also increases."
   ]
  },
  {
   "cell_type": "markdown",
   "metadata": {},
   "source": [
    "#### Displacement has a strong correlation with cylinders.This is because engine displacement is found by using cylinders as a parameter. Weight is also strongly correlated to cylinders and therefore displacement. Mpg is negatively coreelated with cylinders, displacement, weight while strongly correlated with acceleration, model-year, and origin. The fact that mpg is positively correlated with acceleration matches my expectation because as the acceleration increases miles traveled per gallon also increases."
   ]
  },
  {
   "cell_type": "markdown",
   "metadata": {},
   "source": [
    "## Problem 4"
   ]
  },
  {
   "cell_type": "code",
   "execution_count": 10,
   "metadata": {},
   "outputs": [],
   "source": [
    "import numpy as np\n",
    "\n",
    "class LinearRegression:\n",
    "    def __init__(self):\n",
    "        return\n",
    "        \n",
    "    \n",
    "    def fit(self, x, y, order):\n",
    "        self.index = 0\n",
    "        \n",
    "        self.X = np.ones(len(x))   #initialize X as a matrix having columns of ones. This corresponds to polynomial of order 0\n",
    "        while True:\n",
    "            if self.index < order and order != 0:                          #concatenate power of x to original matrices X\n",
    "                self.index += 1\n",
    "                self.X = np.c_[self.X, np.power(x, self.index)]\n",
    "            \n",
    "            else:\n",
    "                break\n",
    "        self.b = np.linalg.inv(self.X.T@self.X)@(self.X.T@y)           # w = (X^T*X)^-1*(X^T*y) Formula given in lecture\n",
    "        \n",
    "        \n",
    "        return self.X, self.b\n",
    "    \n",
    "    def predict(self, x, y, order):\n",
    "        self.predict = self.fit(x, y, order)\n",
    "        self.predict_array = self.predict[0]@self.predict[1]                  #prediction array is just X*w\n",
    "        \n",
    "        return self.predict_array\n",
    "    \n",
    "    \n",
    "    def mse(self, x, y, order):\n",
    "        self.y_hat = self.predict(x, y, order)\n",
    "        self.mse_array = y - self.y_hat\n",
    "        \n",
    "        self.mse = np.power(self.mse_array, 2)\n",
    "        \n",
    "        return np.sum(self.mse)/len(y)\n",
    "            \n",
    "        \n"
   ]
  },
  {
   "cell_type": "code",
   "execution_count": 14,
   "metadata": {},
   "outputs": [
    {
     "data": {
      "text/plain": [
       "0.5871109925367444"
      ]
     },
     "execution_count": 14,
     "metadata": {},
     "output_type": "execute_result"
    }
   ],
   "source": [
    "df['horsepower'] = df['horsepower'].astype(float)\n",
    "df['cylinders'] = df['cylinders'].astype(float)\n",
    "x = np.array(df['horsepower'])\n",
    "y = np.array(df['cylinders'])\n",
    "hello = LinearRegression()\n",
    "hello.mse(x,y,4)\n",
    "\n",
    "#Testing Linear Regression code"
   ]
  },
  {
   "cell_type": "code",
   "execution_count": null,
   "metadata": {},
   "outputs": [],
   "source": []
  }
 ],
 "metadata": {
  "kernelspec": {
   "display_name": "Python 3",
   "language": "python",
   "name": "python3"
  },
  "language_info": {
   "codemirror_mode": {
    "name": "ipython",
    "version": 3
   },
   "file_extension": ".py",
   "mimetype": "text/x-python",
   "name": "python",
   "nbconvert_exporter": "python",
   "pygments_lexer": "ipython3",
   "version": "3.8.5"
  }
 },
 "nbformat": 4,
 "nbformat_minor": 4
}
