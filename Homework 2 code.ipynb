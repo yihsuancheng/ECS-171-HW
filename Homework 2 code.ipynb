{
 "cells": [
  {
   "cell_type": "markdown",
   "metadata": {},
   "source": [
    "# Homework 2\n",
    "## Problem 1\n",
    "#### First set up everything from Homework 1"
   ]
  },
  {
   "cell_type": "code",
   "execution_count": 1,
   "metadata": {},
   "outputs": [
    {
     "data": {
      "text/html": [
       "<div>\n",
       "<style scoped>\n",
       "    .dataframe tbody tr th:only-of-type {\n",
       "        vertical-align: middle;\n",
       "    }\n",
       "\n",
       "    .dataframe tbody tr th {\n",
       "        vertical-align: top;\n",
       "    }\n",
       "\n",
       "    .dataframe thead th {\n",
       "        text-align: right;\n",
       "    }\n",
       "</style>\n",
       "<table border=\"1\" class=\"dataframe\">\n",
       "  <thead>\n",
       "    <tr style=\"text-align: right;\">\n",
       "      <th></th>\n",
       "      <th>mpg</th>\n",
       "      <th>cylinders</th>\n",
       "      <th>displacement</th>\n",
       "      <th>horsepower</th>\n",
       "      <th>weight</th>\n",
       "      <th>acceleration</th>\n",
       "      <th>model_year</th>\n",
       "      <th>origin</th>\n",
       "      <th>car_name</th>\n",
       "    </tr>\n",
       "  </thead>\n",
       "  <tbody>\n",
       "    <tr>\n",
       "      <th>0</th>\n",
       "      <td>18.0</td>\n",
       "      <td>8</td>\n",
       "      <td>307.0</td>\n",
       "      <td>130.0</td>\n",
       "      <td>3504.0</td>\n",
       "      <td>12.0</td>\n",
       "      <td>70</td>\n",
       "      <td>1</td>\n",
       "      <td>chevrolet chevelle malibu</td>\n",
       "    </tr>\n",
       "    <tr>\n",
       "      <th>1</th>\n",
       "      <td>15.0</td>\n",
       "      <td>8</td>\n",
       "      <td>350.0</td>\n",
       "      <td>165.0</td>\n",
       "      <td>3693.0</td>\n",
       "      <td>11.5</td>\n",
       "      <td>70</td>\n",
       "      <td>1</td>\n",
       "      <td>buick skylark 320</td>\n",
       "    </tr>\n",
       "    <tr>\n",
       "      <th>2</th>\n",
       "      <td>18.0</td>\n",
       "      <td>8</td>\n",
       "      <td>318.0</td>\n",
       "      <td>150.0</td>\n",
       "      <td>3436.0</td>\n",
       "      <td>11.0</td>\n",
       "      <td>70</td>\n",
       "      <td>1</td>\n",
       "      <td>plymouth satellite</td>\n",
       "    </tr>\n",
       "    <tr>\n",
       "      <th>3</th>\n",
       "      <td>16.0</td>\n",
       "      <td>8</td>\n",
       "      <td>304.0</td>\n",
       "      <td>150.0</td>\n",
       "      <td>3433.0</td>\n",
       "      <td>12.0</td>\n",
       "      <td>70</td>\n",
       "      <td>1</td>\n",
       "      <td>amc rebel sst</td>\n",
       "    </tr>\n",
       "    <tr>\n",
       "      <th>4</th>\n",
       "      <td>17.0</td>\n",
       "      <td>8</td>\n",
       "      <td>302.0</td>\n",
       "      <td>140.0</td>\n",
       "      <td>3449.0</td>\n",
       "      <td>10.5</td>\n",
       "      <td>70</td>\n",
       "      <td>1</td>\n",
       "      <td>ford torino</td>\n",
       "    </tr>\n",
       "  </tbody>\n",
       "</table>\n",
       "</div>"
      ],
      "text/plain": [
       "    mpg  cylinders  displacement horsepower  weight  acceleration  model_year  \\\n",
       "0  18.0          8         307.0      130.0  3504.0          12.0          70   \n",
       "1  15.0          8         350.0      165.0  3693.0          11.5          70   \n",
       "2  18.0          8         318.0      150.0  3436.0          11.0          70   \n",
       "3  16.0          8         304.0      150.0  3433.0          12.0          70   \n",
       "4  17.0          8         302.0      140.0  3449.0          10.5          70   \n",
       "\n",
       "   origin                   car_name  \n",
       "0       1  chevrolet chevelle malibu  \n",
       "1       1          buick skylark 320  \n",
       "2       1         plymouth satellite  \n",
       "3       1              amc rebel sst  \n",
       "4       1                ford torino  "
      ]
     },
     "execution_count": 1,
     "metadata": {},
     "output_type": "execute_result"
    }
   ],
   "source": [
    "import pandas as pd\n",
    "\n",
    "df = pd.read_csv(\"datasets/auto-mpg.data\", delim_whitespace=True, names=['mpg','cylinders','displacement','horsepower','weight', 'acceleration', 'model_year', 'origin', 'car_name'])\n",
    "df.head()"
   ]
  },
  {
   "cell_type": "code",
   "execution_count": 2,
   "metadata": {},
   "outputs": [],
   "source": [
    "df_original = df.shape\n",
    "#df.replace('?', np.nan, inplace = True) #replace '?' with null \n",
    "\n",
    "#df[df['horsepower'].isnull() == True]                                  #find all rows where the horsepower column has value of null\n",
    "missing_item_index = df[df['horsepower'].values == '?'].index.tolist()   #Store the index of missing item in list\n",
    "missing_rows = df[df['horsepower'].values == '?']                        #find all rows where the horsepower column has value of ?\n",
    "df.drop(labels = missing_item_index, axis = 0, inplace = True)  \n",
    "        \n",
    "\n",
    "        "
   ]
  },
  {
   "cell_type": "code",
   "execution_count": 3,
   "metadata": {},
   "outputs": [],
   "source": [
    "import numpy as np\n",
    "\n",
    "class LinearRegression:\n",
    "    def __init__(self):\n",
    "        self.b = []\n",
    "        self.X = []\n",
    "        return\n",
    "        \n",
    "    \n",
    "    def fit(self, x, y, order):\n",
    "        self.index = 0\n",
    "        \n",
    "        self.X = np.c_[np.ones(len(x))]   #initialize X as a matrix having columns of ones. This corresponds to polynomial of order 0\n",
    "        while True:\n",
    "            if self.index < order and order != 0:                          #concatenate power of x to original matrices X\n",
    "                self.index += 1\n",
    "                self.X = np.c_[self.X, np.power(x, self.index)]\n",
    "            \n",
    "            else:\n",
    "                break\n",
    "        self.b = np.linalg.inv(self.X.T@self.X)@(self.X.T@y)           # w = (X^T*X)^-1*(X^T*y) Formula given in lecture\n",
    "        \n",
    "        \n",
    "        return self.X, self.b\n",
    "    \n",
    "    def predict(self, x):\n",
    "        \n",
    "        predict_array = self.X@self.b                  #prediction array is just X*w\n",
    "        \n",
    "        return predict_array\n",
    "    \n",
    "    \n",
    "    def mse(self, y, predict_array):\n",
    "        \n",
    "        self.mse_array = y - predict_array\n",
    "        \n",
    "        self.mse = np.power(self.mse_array, 2)\n",
    "        \n",
    "        return np.sum(self.mse)/len(y)\n",
    "            \n",
    "            "
   ]
  },
  {
   "cell_type": "code",
   "execution_count": 4,
   "metadata": {},
   "outputs": [
    {
     "data": {
      "text/plain": [
       "0.7660809195636852"
      ]
     },
     "execution_count": 4,
     "metadata": {},
     "output_type": "execute_result"
    }
   ],
   "source": [
    "df['horsepower'] = df['horsepower'].astype(float)\n",
    "df['cylinders'] = df['cylinders'].astype(float)\n",
    "x = np.array(df['horsepower'])\n",
    "y = np.array(df['cylinders'])\n",
    "hello = LinearRegression()\n",
    "hello.fit(x,y,2)[1]\n",
    "n = hello.predict(x)\n",
    "hello.mse(y, n)\n",
    "\n",
    "#Testing Linear Regression"
   ]
  },
  {
   "cell_type": "code",
   "execution_count": 5,
   "metadata": {},
   "outputs": [
    {
     "data": {
      "text/plain": [
       "274.4"
      ]
     },
     "execution_count": 5,
     "metadata": {},
     "output_type": "execute_result"
    }
   ],
   "source": [
    "df.shape[0]*0.7"
   ]
  },
  {
   "cell_type": "markdown",
   "metadata": {},
   "source": [
    "#### Split the dataset into first 70% rows for training and last 30% rows for testing"
   ]
  },
  {
   "cell_type": "code",
   "execution_count": 6,
   "metadata": {},
   "outputs": [],
   "source": [
    "x_train_mpg = np.array(df['mpg'][:274])\n",
    "x_test_mpg = np.array(df['mpg'][274:])\n",
    "y_train_weight = np.array(df['weight'][:274])\n",
    "y_test_weight = np.array(df['weight'][274:])\n",
    "x_train_cylinders = np.array(df['cylinders'][:274])\n",
    "x_test_cylinders = np.array(df['cylinders'][274:])\n",
    "x_train_displacement = np.array(df['displacement'][:274])\n",
    "x_test_displacement = np.array(df['displacement'][274:])\n",
    "x_train_horsepower = np.array(df['horsepower'][:274])\n",
    "x_test_horsepower = np.array(df['horsepower'][274:])\n",
    "x_train_acceleration = np.array(df['acceleration'][:274])\n",
    "x_test_acceleration = np.array(df['acceleration'][274:])\n",
    "x_train_model_year = np.array(df['model_year'][:274])\n",
    "x_test_model_year = np.array(df['model_year'][274:])\n",
    "x_train_origin = np.array(df['origin'][:274])\n",
    "x_test_origin = np.array(df['origin'][274:])\n",
    "\n",
    "#Split the dataset into first 70% rows for training and last 30% rows for testing"
   ]
  },
  {
   "cell_type": "markdown",
   "metadata": {},
   "source": [
    "#### Plotting mpg vs weight\n",
    "#### The training set is used for fitting and the test set is used for predicting"
   ]
  },
  {
   "cell_type": "code",
   "execution_count": 7,
   "metadata": {},
   "outputs": [
    {
     "data": {
      "text/plain": [
       "<matplotlib.legend.Legend at 0x220b0167cd0>"
      ]
     },
     "execution_count": 7,
     "metadata": {},
     "output_type": "execute_result"
    },
    {
     "data": {
      "image/png": "[encoded data removed]",
      "text/plain": [
       "<Figure size 432x288 with 1 Axes>"
      ]
     },
     "metadata": {
      "needs_background": "light"
     },
     "output_type": "display_data"
    }
   ],
   "source": [
    "import math\n",
    "import matplotlib.pyplot as plt\n",
    "\n",
    "hello = LinearRegression()\n",
    "b_array0 = hello.fit(x_train_mpg,y_train_weight,0)[1]     \n",
    "b_array1 = hello.fit(x_train_mpg,y_train_weight,1)[1]\n",
    "b_array2 = hello.fit(x_train_mpg,y_train_weight,2)[1]\n",
    "b_array3 = hello.fit(x_train_mpg,y_train_weight,3)[1]\n",
    "\n",
    "\n",
    "fx = np.linspace(math.floor(x_test_mpg.min()), math.ceil(x_test_mpg.max()),math.ceil(x_test_mpg.max())- math.floor(x_test_mpg.min()))\n",
    "\n",
    "\n",
    "fy0 = b_array0[0] + 0*fx \n",
    "fy1 = b_array1[0] + b_array1[1]*fx \n",
    "fy2 = b_array2[0] + b_array2[1]*fx + b_array2[2]*np.power(fx, 2)\n",
    "fy3 = b_array3[0] + b_array3[1]*fx + b_array3[2]*np.power(fx, 2) +  b_array3[3]*np.power(fx, 3)\n",
    "\n",
    "plt.scatter(x_test_mpg,y_test_weight, s = 20)\n",
    "plt.xlabel(\"mpg\")\n",
    "plt.ylabel(\"weight\")\n",
    "plt.ylim(0, 4500)\n",
    "plt.plot(fx,fy0)\n",
    "plt.plot(fx,fy1)\n",
    "plt.plot(fx,fy2)\n",
    "plt.plot(fx,fy3)\n",
    "plt.legend([\"0th order\", \"1st order\", \"2nd order\", \"3rd order\"], loc = \"lower left\")\n"
   ]
  },
  {
   "cell_type": "markdown",
   "metadata": {},
   "source": [
    "#### Plotting cylinders vs weight"
   ]
  },
  {
   "cell_type": "code",
   "execution_count": 8,
   "metadata": {},
   "outputs": [
    {
     "data": {
      "text/plain": [
       "<matplotlib.legend.Legend at 0x220b0273ca0>"
      ]
     },
     "execution_count": 8,
     "metadata": {},
     "output_type": "execute_result"
    },
    {
     "data": {
      "image/png": "[encoded data removed]",
      "text/plain": [
       "<Figure size 432x288 with 1 Axes>"
      ]
     },
     "metadata": {
      "needs_background": "light"
     },
     "output_type": "display_data"
    }
   ],
   "source": [
    "b_array0 = hello.fit(x_train_cylinders,y_train_weight,0)[1]\n",
    "b_array1 = hello.fit(x_train_cylinders,y_train_weight,1)[1]\n",
    "b_array2 = hello.fit(x_train_cylinders,y_train_weight,2)[1]\n",
    "b_array3 = hello.fit(x_train_cylinders,y_train_weight,3)[1]\n",
    "\n",
    "fx = np.linspace(math.floor(x_test_cylinders.min()), math.ceil(x_test_cylinders.max()),math.ceil(x_test_cylinders.max())- math.floor(x_test_cylinders.min()))\n",
    "\n",
    "fy0 = b_array0[0] + 0*fx \n",
    "fy1 = b_array1[0] + b_array1[1]*fx \n",
    "fy2 = b_array2[0] + b_array2[1]*fx + b_array2[2]*np.power(fx, 2)\n",
    "fy3 = b_array3[0] + b_array3[1]*fx + b_array3[2]*np.power(fx, 2) +  b_array3[3]*np.power(fx, 3)\n",
    "\n",
    "plt.scatter(x_test_cylinders,y_test_weight, s = 20)\n",
    "plt.xlabel(\"cylinders\")\n",
    "plt.ylabel(\"weight\")\n",
    "plt.ylim(1500,5000)\n",
    "plt.plot(fx,fy0)\n",
    "plt.plot(fx,fy1)\n",
    "plt.plot(fx,fy2)\n",
    "plt.plot(fx,fy3)\n",
    "plt.legend([\"0th order\", \"1st order\", \"2nd order\", \"3rd order\"], loc = \"lower right\")\n",
    "\n",
    "\n"
   ]
  },
  {
   "cell_type": "markdown",
   "metadata": {},
   "source": [
    "#### Plotting displacement vs weight"
   ]
  },
  {
   "cell_type": "code",
   "execution_count": 9,
   "metadata": {},
   "outputs": [
    {
     "data": {
      "text/plain": [
       "<matplotlib.legend.Legend at 0x220b02f8ee0>"
      ]
     },
     "execution_count": 9,
     "metadata": {},
     "output_type": "execute_result"
    },
    {
     "data": {
      "image/png": "[encoded data removed]",
      "text/plain": [
       "<Figure size 432x288 with 1 Axes>"
      ]
     },
     "metadata": {
      "needs_background": "light"
     },
     "output_type": "display_data"
    }
   ],
   "source": [
    "b_array0 = hello.fit(x_train_displacement,y_train_weight,0)[1]\n",
    "b_array1 = hello.fit(x_train_displacement,y_train_weight,1)[1]\n",
    "b_array2 = hello.fit(x_train_displacement,y_train_weight,2)[1]\n",
    "b_array3 = hello.fit(x_train_displacement,y_train_weight,3)[1]\n",
    "\n",
    "fx = np.linspace(math.floor(x_test_displacement.min()), math.ceil(x_test_displacement.max()),math.ceil(x_test_displacement.max())- math.floor(x_test_displacement.min()))\n",
    "\n",
    "fy0 = b_array0[0] + 0*fx \n",
    "fy1 = b_array1[0] + b_array1[1]*fx \n",
    "fy2 = b_array2[0] + b_array2[1]*fx + b_array2[2]*np.power(fx, 2)\n",
    "fy3 = b_array3[0] + b_array3[1]*fx + b_array3[2]*np.power(fx, 2) +  b_array3[3]*np.power(fx, 3)\n",
    "\n",
    "plt.scatter(x_test_displacement,y_test_weight, s = 20)\n",
    "plt.xlabel(\"displacement\")\n",
    "plt.ylabel(\"weight\")\n",
    "plt.ylim(0,5000)\n",
    "plt.plot(fx,fy0)\n",
    "plt.plot(fx,fy1)\n",
    "plt.plot(fx,fy2)\n",
    "plt.plot(fx,fy3)\n",
    "plt.legend([\"0th order\", \"1st order\", \"2nd order\", \"3rd order\"], loc = \"lower right\")\n"
   ]
  },
  {
   "cell_type": "markdown",
   "metadata": {},
   "source": [
    "#### Plotting horsepower vs weight"
   ]
  },
  {
   "cell_type": "code",
   "execution_count": 10,
   "metadata": {},
   "outputs": [
    {
     "data": {
      "text/plain": [
       "<matplotlib.legend.Legend at 0x220b0364fa0>"
      ]
     },
     "execution_count": 10,
     "metadata": {},
     "output_type": "execute_result"
    },
    {
     "data": {
      "image/png": "[encoded data removed]",
      "text/plain": [
       "<Figure size 432x288 with 1 Axes>"
      ]
     },
     "metadata": {
      "needs_background": "light"
     },
     "output_type": "display_data"
    }
   ],
   "source": [
    "b_array0 = hello.fit(x_train_horsepower,y_train_weight,0)[1]\n",
    "b_array1 = hello.fit(x_train_horsepower,y_train_weight,1)[1]\n",
    "b_array2 = hello.fit(x_train_horsepower,y_train_weight,2)[1]\n",
    "b_array3 = hello.fit(x_train_horsepower,y_train_weight,3)[1]\n",
    "\n",
    "fx = np.linspace(math.floor(x_test_horsepower.min()), math.ceil(x_test_horsepower.max()),math.ceil(x_test_horsepower.max())- math.floor(x_test_horsepower.min()))\n",
    "\n",
    "fy0 = b_array0[0] + 0*fx \n",
    "fy1 = b_array1[0] + b_array1[1]*fx \n",
    "fy2 = b_array2[0] + b_array2[1]*fx + b_array2[2]*np.power(fx, 2)\n",
    "fy3 = b_array3[0] + b_array3[1]*fx + b_array3[2]*np.power(fx, 2) +  b_array3[3]*np.power(fx, 3)\n",
    "\n",
    "plt.scatter(x_test_horsepower,y_test_weight, s = 20)\n",
    "plt.xlabel(\"horsepower\")\n",
    "plt.ylabel(\"weight\")\n",
    "plt.ylim(0,5000)\n",
    "plt.plot(fx,fy0)\n",
    "plt.plot(fx,fy1)\n",
    "plt.plot(fx,fy2)\n",
    "plt.plot(fx,fy3)\n",
    "plt.legend([\"0th order\", \"1st order\", \"2nd order\", \"3rd order\"], loc = \"lower right\")\n"
   ]
  },
  {
   "cell_type": "markdown",
   "metadata": {},
   "source": [
    "#### Plotting acceleration vs weight"
   ]
  },
  {
   "cell_type": "code",
   "execution_count": 11,
   "metadata": {},
   "outputs": [
    {
     "data": {
      "text/plain": [
       "<matplotlib.legend.Legend at 0x220b03e1e80>"
      ]
     },
     "execution_count": 11,
     "metadata": {},
     "output_type": "execute_result"
    },
    {
     "data": {
      "image/png": "[encoded data removed]",
      "text/plain": [
       "<Figure size 432x288 with 1 Axes>"
      ]
     },
     "metadata": {
      "needs_background": "light"
     },
     "output_type": "display_data"
    }
   ],
   "source": [
    "b_array0 = hello.fit(x_train_acceleration,y_train_weight,0)[1]\n",
    "b_array1 = hello.fit(x_train_acceleration,y_train_weight,1)[1]\n",
    "b_array2 = hello.fit(x_train_acceleration,y_train_weight,2)[1]\n",
    "b_array3 = hello.fit(x_train_acceleration,y_train_weight,3)[1]\n",
    "\n",
    "fx = np.linspace(math.floor(x_test_acceleration.min()), math.ceil(x_test_acceleration.max()),math.ceil(x_test_acceleration.max())- math.floor(x_test_acceleration.min()))\n",
    "\n",
    "fy0 = b_array0[0] + 0*fx \n",
    "fy1 = b_array1[0] + b_array1[1]*fx \n",
    "fy2 = b_array2[0] + b_array2[1]*fx + b_array2[2]*np.power(fx, 2)\n",
    "fy3 = b_array3[0] + b_array3[1]*fx + b_array3[2]*np.power(fx, 2) +  b_array3[3]*np.power(fx, 3)\n",
    "\n",
    "plt.scatter(x_test_acceleration,y_test_weight, s = 20)\n",
    "plt.xlabel(\"acceleration\")\n",
    "plt.ylabel(\"weight\")\n",
    "plt.ylim(0,5000)\n",
    "plt.plot(fx,fy0)\n",
    "plt.plot(fx,fy1)\n",
    "plt.plot(fx,fy2)\n",
    "plt.plot(fx,fy3)\n",
    "plt.legend([\"0th order\", \"1st order\", \"2nd order\", \"3rd order\"], loc = \"lower right\")"
   ]
  },
  {
   "cell_type": "markdown",
   "metadata": {},
   "source": [
    "#### Plotting model year vs weight"
   ]
  },
  {
   "cell_type": "code",
   "execution_count": 12,
   "metadata": {},
   "outputs": [
    {
     "data": {
      "text/plain": [
       "<matplotlib.legend.Legend at 0x220b03b4340>"
      ]
     },
     "execution_count": 12,
     "metadata": {},
     "output_type": "execute_result"
    },
    {
     "data": {
      "image/png": "[encoded data removed]",
      "text/plain": [
       "<Figure size 432x288 with 1 Axes>"
      ]
     },
     "metadata": {
      "needs_background": "light"
     },
     "output_type": "display_data"
    }
   ],
   "source": [
    "b_array0 = hello.fit(x_train_model_year,y_train_weight,0)[1]\n",
    "b_array1 = hello.fit(x_train_model_year,y_train_weight,1)[1]\n",
    "b_array2 = hello.fit(x_train_model_year,y_train_weight,2)[1]\n",
    "b_array3 = hello.fit(x_train_model_year,y_train_weight,3)[1]\n",
    "\n",
    "fx = np.linspace(math.floor(x_test_model_year.min()), math.ceil(x_test_model_year.max()),math.ceil(x_test_model_year.max())- math.floor(x_test_model_year.min()))\n",
    "\n",
    "fy0 = b_array0[0] + 0*fx \n",
    "fy1 = b_array1[0] + b_array1[1]*fx \n",
    "fy2 = b_array2[0] + b_array2[1]*fx + b_array2[2]*np.power(fx, 2)\n",
    "fy3 = b_array3[0] + b_array3[1]*fx + b_array3[2]*np.power(fx, 2) +  b_array3[3]*np.power(fx, 3)\n",
    "\n",
    "plt.scatter(x_test_model_year,y_test_weight, s = 20)\n",
    "plt.xlabel(\"model year\")\n",
    "plt.ylabel(\"weight\")\n",
    "plt.ylim(1000,5000)\n",
    "plt.plot(fx,fy0)\n",
    "plt.plot(fx,fy1)\n",
    "plt.plot(fx,fy2)\n",
    "plt.plot(fx,fy3)\n",
    "plt.legend([\"0th order\", \"1st order\", \"2nd order\", \"3rd order\"], loc = \"upper right\")"
   ]
  },
  {
   "cell_type": "markdown",
   "metadata": {},
   "source": [
    "#### Plotting origin vs weight"
   ]
  },
  {
   "cell_type": "code",
   "execution_count": 13,
   "metadata": {},
   "outputs": [
    {
     "data": {
      "text/plain": [
       "<matplotlib.legend.Legend at 0x220b14817f0>"
      ]
     },
     "execution_count": 13,
     "metadata": {},
     "output_type": "execute_result"
    },
    {
     "data": {
      "image/png": "[encoded data removed]",
      "text/plain": [
       "<Figure size 432x288 with 1 Axes>"
      ]
     },
     "metadata": {
      "needs_background": "light"
     },
     "output_type": "display_data"
    }
   ],
   "source": [
    "b_array0 = hello.fit(x_train_origin,y_train_weight,0)[1]\n",
    "b_array1 = hello.fit(x_train_origin,y_train_weight,1)[1]\n",
    "b_array2 = hello.fit(x_train_origin,y_train_weight,2)[1]\n",
    "b_array3 = hello.fit(x_train_origin,y_train_weight,3)[1]\n",
    "\n",
    "fx = np.linspace(math.floor(x_test_origin.min()), math.ceil(x_test_origin.max()),math.ceil(x_test_origin.max())- math.floor(x_test_origin.min()))\n",
    "\n",
    "fy0 = b_array0[0] + 0*fx \n",
    "fy1 = b_array1[0] + b_array1[1]*fx \n",
    "fy2 = b_array2[0] + b_array2[1]*fx + b_array2[2]*np.power(fx, 2)\n",
    "fy3 = b_array3[0] + b_array3[1]*fx + b_array3[2]*np.power(fx, 2) +  b_array3[3]*np.power(fx, 3)\n",
    "\n",
    "plt.scatter(x_test_origin,y_test_weight, s = 20)\n",
    "plt.xlabel(\"origin\")\n",
    "plt.ylabel(\"weight\")\n",
    "plt.ylim(1000,4500)\n",
    "plt.plot(fx,fy0)\n",
    "plt.plot(fx,fy1)\n",
    "plt.plot(fx,fy2)\n",
    "plt.plot(fx,fy3)\n",
    "plt.legend([\"0th order\", \"1st order\", \"2nd order\", \"3rd order\"], loc = \"upper right\")"
   ]
  },
  {
   "cell_type": "markdown",
   "metadata": {},
   "source": [
    "#### Splitting the dataset into 80% for training and 20% for testing"
   ]
  },
  {
   "cell_type": "code",
   "execution_count": 14,
   "metadata": {},
   "outputs": [
    {
     "data": {
      "text/plain": [
       "313.6"
      ]
     },
     "execution_count": 14,
     "metadata": {},
     "output_type": "execute_result"
    }
   ],
   "source": [
    "df.shape[0]*0.8"
   ]
  },
  {
   "cell_type": "code",
   "execution_count": 15,
   "metadata": {},
   "outputs": [],
   "source": [
    "x_train_mpg = np.array(df['mpg'][:314])\n",
    "x_test_mpg = np.array(df['mpg'][314:])\n",
    "y_train_weight = np.array(df['weight'][:314])\n",
    "y_test_weight = np.array(df['weight'][314:])\n",
    "x_train_cylinders = np.array(df['cylinders'][:314])\n",
    "x_test_cylinders = np.array(df['cylinders'][314:])\n",
    "x_train_displacement = np.array(df['displacement'][:314])\n",
    "x_test_displacement = np.array(df['displacement'][314:])\n",
    "x_train_horsepower = np.array(df['horsepower'][:314])\n",
    "x_test_horsepower = np.array(df['horsepower'][314:])\n",
    "x_train_acceleration = np.array(df['acceleration'][:314])\n",
    "x_test_acceleration = np.array(df['acceleration'][314:])\n",
    "x_train_model_year = np.array(df['model_year'][:314])\n",
    "x_test_model_year = np.array(df['model_year'][314:])\n",
    "x_train_origin = np.array(df['origin'][:314])\n",
    "x_test_origin = np.array(df['origin'][314:])"
   ]
  },
  {
   "cell_type": "code",
   "execution_count": 16,
   "metadata": {},
   "outputs": [
    {
     "data": {
      "text/plain": [
       "<matplotlib.legend.Legend at 0x220b150cfd0>"
      ]
     },
     "execution_count": 16,
     "metadata": {},
     "output_type": "execute_result"
    },
    {
     "data": {
      "image/png": "[encoded data removed]",
      "text/plain": [
       "<Figure size 432x288 with 1 Axes>"
      ]
     },
     "metadata": {
      "needs_background": "light"
     },
     "output_type": "display_data"
    }
   ],
   "source": [
    "b_array0 = hello.fit(x_train_mpg,y_train_weight,0)[1]\n",
    "b_array1 = hello.fit(x_train_mpg,y_train_weight,1)[1]\n",
    "b_array2 = hello.fit(x_train_mpg,y_train_weight,2)[1]\n",
    "b_array3 = hello.fit(x_train_mpg,y_train_weight,3)[1]\n",
    "\n",
    "fx = np.linspace(math.floor(x_test_mpg.min()), math.ceil(x_test_mpg.max()),math.ceil(x_test_mpg.max())- math.floor(x_test_mpg.min()))\n",
    "\n",
    "fy0 = b_array0[0] + 0*fx \n",
    "fy1 = b_array1[0] + b_array1[1]*fx \n",
    "fy2 = b_array2[0] + b_array2[1]*fx + b_array2[2]*np.power(fx, 2)\n",
    "fy3 = b_array3[0] + b_array3[1]*fx + b_array3[2]*np.power(fx, 2) +  b_array3[3]*np.power(fx, 3)\n",
    "\n",
    "plt.scatter(x_test_mpg,y_test_weight, s = 20)\n",
    "plt.xlabel(\"mpg\")\n",
    "plt.ylabel(\"weight\")\n",
    "plt.ylim(0, 4500)\n",
    "plt.plot(fx,fy0)\n",
    "plt.plot(fx,fy1)\n",
    "plt.plot(fx,fy2)\n",
    "plt.plot(fx,fy3)\n",
    "plt.legend([\"0th order\", \"1st order\", \"2nd order\", \"3rd order\"], loc = \"lower left\")"
   ]
  },
  {
   "cell_type": "markdown",
   "metadata": {},
   "source": [
    "#### For mpg vs weight, the plot does not change much. This is because the model parameters (or b_array) does not change much at all between 70% and 80% of training set. However, it can be noted that the initial starting point for 1st, 2nd and 3rd order is higher in 70% training set (at around 4000) while for 80% training set, the initial point is around 3600. "
   ]
  },
  {
   "cell_type": "markdown",
   "metadata": {},
   "source": [
    "## Problem 2"
   ]
  },
  {
   "cell_type": "code",
   "execution_count": 17,
   "metadata": {},
   "outputs": [
    {
     "data": {
      "text/html": [
       "<div>\n",
       "<style scoped>\n",
       "    .dataframe tbody tr th:only-of-type {\n",
       "        vertical-align: middle;\n",
       "    }\n",
       "\n",
       "    .dataframe tbody tr th {\n",
       "        vertical-align: top;\n",
       "    }\n",
       "\n",
       "    .dataframe thead th {\n",
       "        text-align: right;\n",
       "    }\n",
       "</style>\n",
       "<table border=\"1\" class=\"dataframe\">\n",
       "  <thead>\n",
       "    <tr style=\"text-align: right;\">\n",
       "      <th></th>\n",
       "      <th>mpg</th>\n",
       "      <th>cylinders</th>\n",
       "      <th>displacement</th>\n",
       "      <th>horsepower</th>\n",
       "      <th>weight</th>\n",
       "      <th>acceleration</th>\n",
       "      <th>model_year</th>\n",
       "      <th>origin</th>\n",
       "      <th>car_name</th>\n",
       "      <th>weight_categ</th>\n",
       "    </tr>\n",
       "  </thead>\n",
       "  <tbody>\n",
       "    <tr>\n",
       "      <th>0</th>\n",
       "      <td>18.0</td>\n",
       "      <td>8.0</td>\n",
       "      <td>307.0</td>\n",
       "      <td>130.0</td>\n",
       "      <td>3504.0</td>\n",
       "      <td>12.0</td>\n",
       "      <td>70</td>\n",
       "      <td>1</td>\n",
       "      <td>chevrolet chevelle malibu</td>\n",
       "      <td>medium</td>\n",
       "    </tr>\n",
       "    <tr>\n",
       "      <th>1</th>\n",
       "      <td>15.0</td>\n",
       "      <td>8.0</td>\n",
       "      <td>350.0</td>\n",
       "      <td>165.0</td>\n",
       "      <td>3693.0</td>\n",
       "      <td>11.5</td>\n",
       "      <td>70</td>\n",
       "      <td>1</td>\n",
       "      <td>buick skylark 320</td>\n",
       "      <td>medium</td>\n",
       "    </tr>\n",
       "    <tr>\n",
       "      <th>2</th>\n",
       "      <td>18.0</td>\n",
       "      <td>8.0</td>\n",
       "      <td>318.0</td>\n",
       "      <td>150.0</td>\n",
       "      <td>3436.0</td>\n",
       "      <td>11.0</td>\n",
       "      <td>70</td>\n",
       "      <td>1</td>\n",
       "      <td>plymouth satellite</td>\n",
       "      <td>medium</td>\n",
       "    </tr>\n",
       "    <tr>\n",
       "      <th>3</th>\n",
       "      <td>16.0</td>\n",
       "      <td>8.0</td>\n",
       "      <td>304.0</td>\n",
       "      <td>150.0</td>\n",
       "      <td>3433.0</td>\n",
       "      <td>12.0</td>\n",
       "      <td>70</td>\n",
       "      <td>1</td>\n",
       "      <td>amc rebel sst</td>\n",
       "      <td>medium</td>\n",
       "    </tr>\n",
       "    <tr>\n",
       "      <th>4</th>\n",
       "      <td>17.0</td>\n",
       "      <td>8.0</td>\n",
       "      <td>302.0</td>\n",
       "      <td>140.0</td>\n",
       "      <td>3449.0</td>\n",
       "      <td>10.5</td>\n",
       "      <td>70</td>\n",
       "      <td>1</td>\n",
       "      <td>ford torino</td>\n",
       "      <td>medium</td>\n",
       "    </tr>\n",
       "  </tbody>\n",
       "</table>\n",
       "</div>"
      ],
      "text/plain": [
       "    mpg  cylinders  displacement  horsepower  weight  acceleration  \\\n",
       "0  18.0        8.0         307.0       130.0  3504.0          12.0   \n",
       "1  15.0        8.0         350.0       165.0  3693.0          11.5   \n",
       "2  18.0        8.0         318.0       150.0  3436.0          11.0   \n",
       "3  16.0        8.0         304.0       150.0  3433.0          12.0   \n",
       "4  17.0        8.0         302.0       140.0  3449.0          10.5   \n",
       "\n",
       "   model_year  origin                   car_name weight_categ  \n",
       "0          70       1  chevrolet chevelle malibu       medium  \n",
       "1          70       1          buick skylark 320       medium  \n",
       "2          70       1         plymouth satellite       medium  \n",
       "3          70       1              amc rebel sst       medium  \n",
       "4          70       1                ford torino       medium  "
      ]
     },
     "execution_count": 17,
     "metadata": {},
     "output_type": "execute_result"
    }
   ],
   "source": [
    "#dividing cars into 3 categories by weight\n",
    "min_wt = min(df['weight'])\n",
    "max_wt = max(df['weight'])\n",
    "per_bin = (max_wt - min_wt)/3\n",
    "\n",
    "bin1_start = min(df['weight'])\n",
    "bin1_end = bin1_start + per_bin\n",
    "bin2_end = bin1_end + per_bin\n",
    "\n",
    "def label_wt(row):\n",
    "    if bin1_start <= row['weight'] and row['weight'] <= bin1_end:\n",
    "        return 'light'\n",
    "    elif row['weight'] <= bin2_end:\n",
    "        return 'medium'\n",
    "    else:\n",
    "        return 'heavy'\n",
    "df['weight_categ'] = df.apply(lambda row: label_wt(row),axis=1)\n",
    "df.head()\n",
    "\n",
    "# citation: This is pulled from HW1 solution."
   ]
  },
  {
   "cell_type": "markdown",
   "metadata": {},
   "source": [
    "#### Logistic Regression model of mpg vs weight category"
   ]
  },
  {
   "cell_type": "code",
   "execution_count": 18,
   "metadata": {},
   "outputs": [
    {
     "data": {
      "text/plain": [
       "0.7796719872744228"
      ]
     },
     "execution_count": 18,
     "metadata": {},
     "output_type": "execute_result"
    }
   ],
   "source": [
    "from sklearn.linear_model import LogisticRegression\n",
    "from sklearn.model_selection import train_test_split\n",
    "from sklearn.metrics import precision_score, recall_score\n",
    "\n",
    "X = df[['mpg']]\n",
    "Y = df['weight_categ']\n",
    "x_train, x_test, y_train, y_test = train_test_split(X, Y, test_size = 0.3, shuffle = False) #shuffle set False to prevent randomizing the dataset\n",
    "\n",
    "model_mpg = LogisticRegression()\n",
    "model_mpg.fit(x_train, y_train)\n",
    "model_mpg.predict(x_test)\n",
    "model_mpg.score(x_test, y_test)\n",
    "\n",
    "y_pred = model_mpg.predict(x_test)\n",
    "precision_score(y_test,y_pred, average = \"weighted\", zero_division = 0)  \n",
    "#recall_score(y_test,y_pred, average = \"weighted\", zero_division = 0)\n",
    "\n",
    "#average is using weighted instead of macro because there are some disparities between the number of samples in each weight categories"
   ]
  },
  {
   "cell_type": "markdown",
   "metadata": {},
   "source": [
    "#### Logistic Regression model of cylinders vs weight category"
   ]
  },
  {
   "cell_type": "code",
   "execution_count": 19,
   "metadata": {},
   "outputs": [
    {
     "data": {
      "text/plain": [
       "0.8376348228043143"
      ]
     },
     "execution_count": 19,
     "metadata": {},
     "output_type": "execute_result"
    }
   ],
   "source": [
    "X = df[['cylinders']]\n",
    "Y = df['weight_categ']\n",
    "x_train, x_test, y_train, y_test = train_test_split(X, Y, test_size = 0.3, shuffle = False)\n",
    "\n",
    "model_cylinders = LogisticRegression()\n",
    "model_cylinders.fit(x_train, y_train)\n",
    "model_cylinders.predict(x_test)\n",
    "model_cylinders.score(x_test, y_test)\n",
    "\n",
    "y_pred = model_cylinders.predict(x_test)\n",
    "precision_score(y_test,y_pred, average = \"weighted\", zero_division = 0)  \n",
    "#recall_score(y_test,y_pred, average = \"weighted\", zero_division = 0)\n"
   ]
  },
  {
   "cell_type": "markdown",
   "metadata": {},
   "source": [
    "#### Logistic Regression model of displacement vs weight category"
   ]
  },
  {
   "cell_type": "code",
   "execution_count": 20,
   "metadata": {},
   "outputs": [
    {
     "data": {
      "text/plain": [
       "0.8427159492049824"
      ]
     },
     "execution_count": 20,
     "metadata": {},
     "output_type": "execute_result"
    }
   ],
   "source": [
    "X = df[['displacement']]\n",
    "Y = df['weight_categ']\n",
    "x_train, x_test, y_train, y_test = train_test_split(X, Y, test_size = 0.3, shuffle = False)\n",
    "\n",
    "model_displacement = LogisticRegression()\n",
    "model_displacement.fit(x_train, y_train)\n",
    "model_displacement.predict(x_test)\n",
    "model_displacement.score(x_test, y_test)\n",
    "\n",
    "y_pred = model_displacement.predict(x_test)\n",
    "precision_score(y_test,y_pred, average = \"weighted\", zero_division = 0)  \n",
    "#recall_score(y_test,y_pred, average = \"weighted\", zero_division = 0)"
   ]
  },
  {
   "cell_type": "markdown",
   "metadata": {},
   "source": [
    "#### Logistic Regression model of horsepower vs weight category "
   ]
  },
  {
   "cell_type": "code",
   "execution_count": 21,
   "metadata": {},
   "outputs": [
    {
     "data": {
      "text/plain": [
       "0.7633414043583534"
      ]
     },
     "execution_count": 21,
     "metadata": {},
     "output_type": "execute_result"
    }
   ],
   "source": [
    "X = df[['horsepower']]\n",
    "Y = df['weight_categ']\n",
    "x_train, x_test, y_train, y_test = train_test_split(X, Y, test_size = 0.3, shuffle = False)\n",
    "\n",
    "model_horsepower = LogisticRegression()\n",
    "model_horsepower.fit(x_train, y_train)\n",
    "model_horsepower.predict(x_test)\n",
    "model_horsepower.score(x_test, y_test)\n",
    "\n",
    "y_pred = model_horsepower.predict(x_test)\n",
    "precision_score(y_test,y_pred, average = \"weighted\", zero_division = 0)  \n",
    "#recall_score(y_test,y_pred, average = \"weighted\", zero_division = 0)"
   ]
  },
  {
   "cell_type": "markdown",
   "metadata": {},
   "source": [
    "#### Logistic Regression model of acceleration vs weight category"
   ]
  },
  {
   "cell_type": "code",
   "execution_count": 22,
   "metadata": {},
   "outputs": [
    {
     "data": {
      "text/plain": [
       "0.4811110757782936"
      ]
     },
     "execution_count": 22,
     "metadata": {},
     "output_type": "execute_result"
    }
   ],
   "source": [
    "X = df[['acceleration']]\n",
    "Y = df['weight_categ']\n",
    "x_train, x_test, y_train, y_test = train_test_split(X, Y, test_size = 0.3, shuffle = False)\n",
    "\n",
    "model_acceleration = LogisticRegression()\n",
    "model_acceleration.fit(x_train, y_train)\n",
    "model_acceleration.predict(x_test)\n",
    "model_acceleration.score(x_test, y_test)\n",
    "\n",
    "y_pred = model_acceleration.predict(x_test)\n",
    "precision_score(y_test,y_pred, average = \"weighted\", zero_division = 0)  \n",
    "#recall_score(y_test,y_pred, average = \"weighted\", zero_division = 0)"
   ]
  },
  {
   "cell_type": "markdown",
   "metadata": {},
   "source": [
    "#### Logistic Regression model of model year vs weight category"
   ]
  },
  {
   "cell_type": "code",
   "execution_count": 23,
   "metadata": {},
   "outputs": [
    {
     "data": {
      "text/plain": [
       "0.10370583165756966"
      ]
     },
     "execution_count": 23,
     "metadata": {},
     "output_type": "execute_result"
    }
   ],
   "source": [
    "X = df[['model_year']]\n",
    "Y = df['weight_categ']\n",
    "x_train, x_test, y_train, y_test = train_test_split(X, Y, test_size = 0.3, shuffle = False)\n",
    "\n",
    "model_model_year = LogisticRegression()\n",
    "model_model_year.fit(x_train, y_train)\n",
    "model_model_year.predict(x_test)\n",
    "model_model_year.score(x_test, y_test)\n",
    "\n",
    "y_pred = model_model_year.predict(x_test)\n",
    "precision_score(y_test,y_pred, average = \"weighted\", zero_division = 0)  \n",
    "#recall_score(y_test,y_pred, average = \"weighted\", zero_division = 0)"
   ]
  },
  {
   "cell_type": "markdown",
   "metadata": {},
   "source": [
    "#### Logistic Regression model of origin vs weight category"
   ]
  },
  {
   "cell_type": "code",
   "execution_count": 24,
   "metadata": {},
   "outputs": [
    {
     "data": {
      "text/plain": [
       "0.6759918690864422"
      ]
     },
     "execution_count": 24,
     "metadata": {},
     "output_type": "execute_result"
    }
   ],
   "source": [
    "X = df[['origin']]\n",
    "Y = df['weight_categ']\n",
    "x_train, x_test, y_train, y_test = train_test_split(X, Y, test_size = 0.3, shuffle = False)\n",
    "\n",
    "model_origin = LogisticRegression()\n",
    "model_origin.fit(x_train, y_train)\n",
    "model_origin.predict(x_test)\n",
    "model_origin.score(x_test, y_test)\n",
    "\n",
    "y_pred = model_origin.predict(x_test)\n",
    "precision_score(y_test,y_pred, average = \"weighted\", zero_division = 0)  \n",
    "#recall_score(y_test,y_pred, average = \"weighted\", zero_division = 0)"
   ]
  },
  {
   "cell_type": "markdown",
   "metadata": {},
   "source": [
    "#### Q2 (b1)\n",
    "#### mpg Precision: 0.7796719872744228 \n",
    "#### mpg Recall: 0.7711864406779662\n",
    "#### cylinders Precision: 0.8376348228043143\n",
    "#### cylinders Recall: 0.788135593220339\n",
    "#### displacement Precision: 0.8427159492049824\n",
    "#### displacement Recall: 0.8220338983050848\n",
    "#### horsepower Precision: 0.7633414043583534\n",
    "#### horsepower Recall: 0.7711864406779662\n",
    "#### acceleration Precision: 0.4811110757782936\n",
    "#### acceleration Recall: 0.4830508474576271\n",
    "#### model_year Precision: 0.10370583165756966\n",
    "#### model_year Recall: 0.3220338983050847\n",
    "#### origin Precision: 0.6759918690864422\n",
    "#### origin Recall: 0.6186440677966102\n"
   ]
  },
  {
   "cell_type": "markdown",
   "metadata": {},
   "source": [
    "#### Q2 (b2)\n",
    "#### Example: Spam Detection\n",
    "#### In the case of spam detection, the precision and recall metrics are given by True positive/(True positive + False positive) and True positive/(True positive + False negative). True positive means that the mail was a spam and also labeled as a spam. False positive means that the mail was not a spam but labeled as a spam. False negative means that the mail was a spam but not labeled as a spam. Therefore, if the user doesn't want to miss any important mails, the user wants the precision metrics to be as high as possible, so the false positive should decrease. In this situation, the precision is more important than recall metric. "
   ]
  },
  {
   "cell_type": "markdown",
   "metadata": {},
   "source": [
    "## Problem 3"
   ]
  },
  {
   "cell_type": "code",
   "execution_count": 25,
   "metadata": {},
   "outputs": [
    {
     "data": {
      "text/plain": [
       "0.7717917675544794"
      ]
     },
     "execution_count": 25,
     "metadata": {},
     "output_type": "execute_result"
    }
   ],
   "source": [
    "from sklearn.preprocessing import MinMaxScaler\n",
    "\n",
    "\n",
    "scaler = MinMaxScaler()\n",
    "scaled_values = scaler.fit_transform(df[['mpg']])  # apply normalization to mpg column\n",
    "X = scaled_values\n",
    "Y = df['weight_categ']\n",
    "x_train, x_test, y_train, y_test = train_test_split(X, Y, test_size = 0.3, shuffle = False)\n",
    "\n",
    "model_mpg = LogisticRegression()\n",
    "model_mpg.fit(x_train, y_train)\n",
    "\n",
    "y_pred = model_mpg.predict(x_test)\n",
    "precision_score(y_test,y_pred, average = \"weighted\", zero_division = 0) \n",
    "#recall_score(y_test,y_pred, average = \"weighted\", zero_division = 0) \n",
    "\n"
   ]
  },
  {
   "cell_type": "code",
   "execution_count": 26,
   "metadata": {},
   "outputs": [
    {
     "data": {
      "text/plain": [
       "0.8376348228043143"
      ]
     },
     "execution_count": 26,
     "metadata": {},
     "output_type": "execute_result"
    }
   ],
   "source": [
    "scaler = MinMaxScaler()\n",
    "scaled_values = scaler.fit_transform(df[['cylinders']])\n",
    "X = scaled_values\n",
    "Y = df['weight_categ']\n",
    "x_train, x_test, y_train, y_test = train_test_split(X, Y, test_size = 0.3, shuffle = False)\n",
    "\n",
    "model_cylinders = LogisticRegression()\n",
    "model_cylinders.fit(x_train, y_train)\n",
    "\n",
    "y_pred = model_cylinders.predict(x_test)\n",
    "precision_score(y_test,y_pred, average = \"weighted\", zero_division = 0) \n",
    "#recall_score(y_test,y_pred, average = \"weighted\", zero_division = 0) "
   ]
  },
  {
   "cell_type": "code",
   "execution_count": 27,
   "metadata": {},
   "outputs": [
    {
     "data": {
      "text/plain": [
       "0.8592230182305318"
      ]
     },
     "execution_count": 27,
     "metadata": {},
     "output_type": "execute_result"
    }
   ],
   "source": [
    "scaler = MinMaxScaler()\n",
    "scaled_values = scaler.fit_transform(df[['displacement']])\n",
    "X = scaled_values\n",
    "Y = df['weight_categ']\n",
    "x_train, x_test, y_train, y_test = train_test_split(X, Y, test_size = 0.3, shuffle = False)\n",
    "\n",
    "model_displacement = LogisticRegression()\n",
    "model_displacement.fit(x_train, y_train)\n",
    "\n",
    "y_pred = model_displacement.predict(x_test)\n",
    "precision_score(y_test,y_pred, average = \"weighted\", zero_division = 0) \n",
    "#recall_score(y_test,y_pred, average = \"weighted\", zero_division = 0) "
   ]
  },
  {
   "cell_type": "code",
   "execution_count": 28,
   "metadata": {},
   "outputs": [
    {
     "data": {
      "text/plain": [
       "0.7940627522195318"
      ]
     },
     "execution_count": 28,
     "metadata": {},
     "output_type": "execute_result"
    }
   ],
   "source": [
    "scaler = MinMaxScaler()\n",
    "scaled_values = scaler.fit_transform(df[['horsepower']])\n",
    "X = scaled_values\n",
    "Y = df['weight_categ']\n",
    "x_train, x_test, y_train, y_test = train_test_split(X, Y, test_size = 0.3, shuffle = False)\n",
    "\n",
    "model_horsepower = LogisticRegression()\n",
    "model_horsepower.fit(x_train, y_train)\n",
    "\n",
    "y_pred = model_horsepower.predict(x_test)\n",
    "precision_score(y_test,y_pred, average = \"weighted\", zero_division = 0) \n",
    "#recall_score(y_test,y_pred, average = \"weighted\", zero_division = 0) "
   ]
  },
  {
   "cell_type": "code",
   "execution_count": 29,
   "metadata": {},
   "outputs": [
    {
     "data": {
      "text/plain": [
       "0.5346366204417051"
      ]
     },
     "execution_count": 29,
     "metadata": {},
     "output_type": "execute_result"
    }
   ],
   "source": [
    "scaler = MinMaxScaler()\n",
    "scaled_values = scaler.fit_transform(df[['acceleration']])\n",
    "X = scaled_values\n",
    "Y = df['weight_categ']\n",
    "x_train, x_test, y_train, y_test = train_test_split(X, Y, test_size = 0.3, shuffle = False)\n",
    "\n",
    "model_acceleration = LogisticRegression()\n",
    "model_acceleration.fit(x_train, y_train)\n",
    "\n",
    "y_pred = model_acceleration.predict(x_test)\n",
    "precision_score(y_test,y_pred, average = \"weighted\", zero_division = 0) \n",
    "#recall_score(y_test,y_pred, average = \"weighted\", zero_division = 0) "
   ]
  },
  {
   "cell_type": "code",
   "execution_count": 30,
   "metadata": {},
   "outputs": [
    {
     "data": {
      "text/plain": [
       "0.10370583165756966"
      ]
     },
     "execution_count": 30,
     "metadata": {},
     "output_type": "execute_result"
    }
   ],
   "source": [
    "scaler = MinMaxScaler()\n",
    "scaled_values = scaler.fit_transform(df[['model_year']])\n",
    "X = scaled_values\n",
    "Y = df['weight_categ']\n",
    "x_train, x_test, y_train, y_test = train_test_split(X, Y, test_size = 0.3, shuffle = False)\n",
    "\n",
    "model_model_year = LogisticRegression()\n",
    "model_model_year.fit(x_train, y_train)\n",
    "\n",
    "y_pred = model_model_year.predict(x_test)\n",
    "precision_score(y_test,y_pred, average = \"weighted\", zero_division = 0) \n",
    "#recall_score(y_test,y_pred, average = \"weighted\", zero_division = 0) "
   ]
  },
  {
   "cell_type": "code",
   "execution_count": 31,
   "metadata": {},
   "outputs": [
    {
     "data": {
      "text/plain": [
       "0.6759918690864422"
      ]
     },
     "execution_count": 31,
     "metadata": {},
     "output_type": "execute_result"
    }
   ],
   "source": [
    "scaler = MinMaxScaler()\n",
    "scaled_values = scaler.fit_transform(df[['origin']])\n",
    "X = scaled_values\n",
    "Y = df['weight_categ']\n",
    "x_train, x_test, y_train, y_test = train_test_split(X, Y, test_size = 0.3, shuffle = False)\n",
    "\n",
    "model_origin = LogisticRegression()\n",
    "model_origin.fit(x_train, y_train)\n",
    "\n",
    "y_pred = model_origin.predict(x_test)\n",
    "precision_score(y_test,y_pred, average = \"weighted\", zero_division = 0) \n",
    "#recall_score(y_test,y_pred, average = \"weighted\", zero_division = 0) "
   ]
  },
  {
   "cell_type": "markdown",
   "metadata": {},
   "source": [
    "#### After Min-Max Normalization\n",
    "#### \n",
    "#### mpg Precision: 0.7717917675544794\n",
    "#### mpg Recall: 0.7627118644067796\n",
    "#### cylinders Precision: 0.8376348228043143\n",
    "#### cylinders Recall: 0.788135593220339\n",
    "#### displacement Precision: 0.8592230182305318\n",
    "#### displacement Recall: 0.8050847457627118\n",
    "#### horsepower Precision: 0.7940627522195318\n",
    "#### horsepower Recall: 0.788135593220339\n",
    "#### acceleration Precision: 0.5346366204417051\n",
    "#### acceleration Recall: 0.5932203389830508\n",
    "#### model_year Precision: 0.10370583165756966\n",
    "#### model_year Recall: 0.3220338983050847\n",
    "#### origin Precision: 0.6759918690864422\n",
    "#### origin Recall: 0.6186440677966102"
   ]
  },
  {
   "cell_type": "markdown",
   "metadata": {},
   "source": [
    "#### For example looking at mpg precision and recall, there are differences before and after min max normalization is applied. However, the difference is really small. There is more notable difference in acceleration where the difference is between 0.05 to 0.1 for precision and recall metrics. On the other hand, there are also features like model_year where the precision and recall stays the same regardless of min max normalization. "
   ]
  },
  {
   "cell_type": "markdown",
   "metadata": {},
   "source": [
    "## Problem 4"
   ]
  },
  {
   "cell_type": "code",
   "execution_count": 32,
   "metadata": {},
   "outputs": [
    {
     "data": {
      "text/plain": [
       "array([24.92999297])"
      ]
     },
     "execution_count": 32,
     "metadata": {},
     "output_type": "execute_result"
    }
   ],
   "source": [
    "from sklearn.linear_model import LinearRegression\n",
    "model = LinearRegression()\n",
    "df['cylinders'] = df['cylinders']**2               #cylinders is 2nd order, all other features are 1st order\n",
    "X = df[['cylinders', 'displacement', 'horsepower', 'weight', 'acceleration', 'model_year', 'origin']]\n",
    "Y = df['mpg']\n",
    "model.fit(X,Y)\n",
    "\n",
    "model.predict([[4, 400, 150, 3500, 8, 81, 1]])"
   ]
  },
  {
   "cell_type": "markdown",
   "metadata": {},
   "source": [
    "#### (a) The mpg rating to be expected is 24.92999297."
   ]
  },
  {
   "cell_type": "code",
   "execution_count": 33,
   "metadata": {},
   "outputs": [
    {
     "data": {
      "text/plain": [
       "array(['medium'], dtype=object)"
      ]
     },
     "execution_count": 33,
     "metadata": {},
     "output_type": "execute_result"
    }
   ],
   "source": [
    "from sklearn.linear_model import LogisticRegression\n",
    "model = LogisticRegression()\n",
    "X = df[['weight']]\n",
    "Y = df['weight_categ']\n",
    "model.fit(X,Y)\n",
    "\n",
    "model.predict([[3500]])"
   ]
  },
  {
   "cell_type": "markdown",
   "metadata": {},
   "source": [
    "#### (b) The weight category corresponding to 3500 lb is medium."
   ]
  },
  {
   "cell_type": "code",
   "execution_count": 34,
   "metadata": {},
   "outputs": [
    {
     "data": {
      "text/plain": [
       "array([34.46524456])"
      ]
     },
     "execution_count": 34,
     "metadata": {},
     "output_type": "execute_result"
    }
   ],
   "source": [
    "from sklearn.linear_model import LinearRegression\n",
    "model = LinearRegression()\n",
    "df['weight'] = df['weight']**2               \n",
    "X = df[['weight']]\n",
    "Y = df['mpg']\n",
    "model.fit(X,Y)\n",
    "\n",
    "model.predict([[3500]])"
   ]
  },
  {
   "cell_type": "markdown",
   "metadata": {},
   "source": [
    "#### (b) The mpg rating corresponding to weight of 3500 lb is 34.46524456"
   ]
  },
  {
   "cell_type": "code",
   "execution_count": null,
   "metadata": {},
   "outputs": [],
   "source": []
  }
 ],
 "metadata": {
  "kernelspec": {
   "display_name": "Python 3",
   "language": "python",
   "name": "python3"
  },
  "language_info": {
   "codemirror_mode": {
    "name": "ipython",
    "version": 3
   },
   "file_extension": ".py",
   "mimetype": "text/x-python",
   "name": "python",
   "nbconvert_exporter": "python",
   "pygments_lexer": "ipython3",
   "version": "3.8.5"
  }
 },
 "nbformat": 4,
 "nbformat_minor": 4
}
